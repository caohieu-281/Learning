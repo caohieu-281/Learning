{
 "cells": [
  {
   "cell_type": "code",
   "execution_count": 1,
   "metadata": {},
   "outputs": [],
   "source": [
    "import numpy as np\n",
    "import pandas as pd\n",
    "from sklearn.metrics import confusion_matrix, accuracy_score, f1_score, recall_score, precision_score\n",
    "from sklearn.model_selection import train_test_split\n",
    "from sklearn.model_selection import StratifiedKFold\n",
    "\n",
    "from sklearn.svm import SVC\n",
    "from sklearn.tree import DecisionTreeClassifier\n",
    "from sklearn.neighbors import KNeighborsClassifier\n",
    "from sklearn.linear_model import LogisticRegression\n",
    "from sklearn.naive_bayes import GaussianNB\n",
    "\n",
    "from sklearn.ensemble import GradientBoostingClassifier, AdaBoostClassifier, ExtraTreesClassifier, RandomForestClassifier\n",
    "\n",
    "import warnings\n",
    "warnings.filterwarnings('ignore')"
   ]
  },
  {
   "cell_type": "code",
   "execution_count": 2,
   "metadata": {},
   "outputs": [
    {
     "data": {
      "text/html": [
       "<div>\n",
       "<style scoped>\n",
       "    .dataframe tbody tr th:only-of-type {\n",
       "        vertical-align: middle;\n",
       "    }\n",
       "\n",
       "    .dataframe tbody tr th {\n",
       "        vertical-align: top;\n",
       "    }\n",
       "\n",
       "    .dataframe thead th {\n",
       "        text-align: right;\n",
       "    }\n",
       "</style>\n",
       "<table border=\"1\" class=\"dataframe\">\n",
       "  <thead>\n",
       "    <tr style=\"text-align: right;\">\n",
       "      <th></th>\n",
       "      <th>Survived</th>\n",
       "      <th>Pclass</th>\n",
       "      <th>Sex</th>\n",
       "      <th>Age</th>\n",
       "      <th>FamilySize</th>\n",
       "    </tr>\n",
       "  </thead>\n",
       "  <tbody>\n",
       "    <tr>\n",
       "      <th>0</th>\n",
       "      <td>0</td>\n",
       "      <td>3</td>\n",
       "      <td>0</td>\n",
       "      <td>22.0</td>\n",
       "      <td>2</td>\n",
       "    </tr>\n",
       "    <tr>\n",
       "      <th>1</th>\n",
       "      <td>1</td>\n",
       "      <td>1</td>\n",
       "      <td>1</td>\n",
       "      <td>38.0</td>\n",
       "      <td>2</td>\n",
       "    </tr>\n",
       "    <tr>\n",
       "      <th>2</th>\n",
       "      <td>1</td>\n",
       "      <td>3</td>\n",
       "      <td>1</td>\n",
       "      <td>26.0</td>\n",
       "      <td>1</td>\n",
       "    </tr>\n",
       "    <tr>\n",
       "      <th>3</th>\n",
       "      <td>1</td>\n",
       "      <td>1</td>\n",
       "      <td>1</td>\n",
       "      <td>35.0</td>\n",
       "      <td>2</td>\n",
       "    </tr>\n",
       "    <tr>\n",
       "      <th>4</th>\n",
       "      <td>0</td>\n",
       "      <td>3</td>\n",
       "      <td>0</td>\n",
       "      <td>35.0</td>\n",
       "      <td>1</td>\n",
       "    </tr>\n",
       "  </tbody>\n",
       "</table>\n",
       "</div>"
      ],
      "text/plain": [
       "   Survived  Pclass  Sex   Age  FamilySize\n",
       "0         0       3    0  22.0           2\n",
       "1         1       1    1  38.0           2\n",
       "2         1       3    1  26.0           1\n",
       "3         1       1    1  35.0           2\n",
       "4         0       3    0  35.0           1"
      ]
     },
     "execution_count": 2,
     "metadata": {},
     "output_type": "execute_result"
    }
   ],
   "source": [
    "titanic = pd.read_csv('https://raw.githubusercontent.com/dhminh1024/practice_datasets/master/titanic.csv')\n",
    "\n",
    "# Data manipulation\n",
    "titanic.fillna(titanic['Age'].mean(), inplace=True)\n",
    "titanic.replace({'Sex':{'male':0, 'female':1}}, inplace=True)\n",
    "titanic['FamilySize'] = titanic['SibSp'] + titanic['Parch'] + 1\n",
    "titanic.drop(columns=['PassengerId', 'Name', 'SibSp', 'Parch', 'Ticket', 'Fare', 'Cabin', 'Embarked'], inplace=True)\n",
    "titanic.head()"
   ]
  },
  {
   "cell_type": "code",
   "execution_count": 3,
   "metadata": {},
   "outputs": [
    {
     "name": "stdout",
     "output_type": "stream",
     "text": [
      "Training set: (801, 4) (801, 1)\n",
      "Test set: (90, 4) (90, 1)\n"
     ]
    }
   ],
   "source": [
    "X = titanic[['Pclass', 'Sex', 'Age', 'FamilySize']].values\n",
    "y = titanic[['Survived']].values\n",
    "\n",
    "x_train, x_test, y_train, y_test = train_test_split(X, y, test_size=0.1, random_state=42)\n",
    "\n",
    "print('Training set:', x_train.shape, y_train.shape)\n",
    "print('Test set:', x_test.shape, y_test.shape)"
   ]
  },
  {
   "cell_type": "code",
   "execution_count": 5,
   "metadata": {},
   "outputs": [],
   "source": [
    "def BlendingClassifier(base_classifiers, X, y, test):\n",
    "    x_train, x_val, y_train, y_val = train_test_split(X, y, test_size=0.2, random_state=42)\n",
    "    val_pred = []\n",
    "    test_pred = []\n",
    "    \n",
    "    for model in base_classifiers:\n",
    "        model[1].fit(x_train, y_train)\n",
    "        val_pred.append(model[1].predict(x_val))\n",
    "        test_pred.append(model[1].predict(test))\n",
    "        print(\"Training \", model[1], \"done!!!\")\n",
    "        print(\"<+++======================+++>\")\n",
    "        \n",
    "    x_val_pred = [[] for i in range(np.array(val_pred).shape[1])]\n",
    "    for i in range(np.array(val_pred).shape[1]):\n",
    "        for j in range(len(val_pred)):\n",
    "            x_val_pred[i].append(val_pred[j][i])\n",
    "            \n",
    "    x_test_pred = [[] for i in range(np.array(test_pred).shape[1])]\n",
    "    for i in range(np.array(test_pred).shape[1]):\n",
    "        for j in range(len(test_pred)):\n",
    "            x_test_pred[i].append(test_pred[j][i])\n",
    "            \n",
    "    return x_val_pred, x_test_pred, y_val"
   ]
  },
  {
   "cell_type": "code",
   "execution_count": 6,
   "metadata": {},
   "outputs": [],
   "source": [
    "base_classifiers = [('Decision Tree', DecisionTreeClassifier()),\n",
    "                    ('KNN', KNeighborsClassifier()),\n",
    "                    ('Naive Bayes', GaussianNB()),\n",
    "                    ('Logistic Regression', LogisticRegression()),\n",
    "                    ('Random Forest', RandomForestClassifier()),\n",
    "                    ('AdaBoost Classifier', AdaBoostClassifier()),\n",
    "                    ('Gradient Boosting Classifier', GradientBoostingClassifier()),\n",
    "                    ('Extra Trees Classifier', ExtraTreesClassifier())]\n",
    "# ('SVM', SVC(kernel='linear', C=1e3)),"
   ]
  },
  {
   "cell_type": "code",
   "execution_count": 7,
   "metadata": {},
   "outputs": [
    {
     "name": "stdout",
     "output_type": "stream",
     "text": [
      "Training  DecisionTreeClassifier() done!!!\n",
      "<+++======================+++>\n",
      "Training  KNeighborsClassifier() done!!!\n",
      "<+++======================+++>\n",
      "Training  GaussianNB() done!!!\n",
      "<+++======================+++>\n",
      "Training  LogisticRegression() done!!!\n",
      "<+++======================+++>\n",
      "Training  RandomForestClassifier() done!!!\n",
      "<+++======================+++>\n",
      "Training  AdaBoostClassifier() done!!!\n",
      "<+++======================+++>\n",
      "Training  GradientBoostingClassifier() done!!!\n",
      "<+++======================+++>\n",
      "Training  ExtraTreesClassifier() done!!!\n",
      "<+++======================+++>\n"
     ]
    }
   ],
   "source": [
    "x_val_pred, x_test_pred, y_val = BlendingClassifier(base_classifiers, x_train, y_train, x_test)\n",
    "\n",
    "model = ExtraTreesClassifier()\n",
    "model.fit(x_val_pred, y_val)\n",
    "rel = model.predict(x_test_pred)"
   ]
  },
  {
   "cell_type": "code",
   "execution_count": 8,
   "metadata": {},
   "outputs": [
    {
     "name": "stdout",
     "output_type": "stream",
     "text": [
      "Accuracy score:  0.8666666666666667\n",
      "F1-score:  0.8378378378378377\n",
      "Recall-score:  0.8611111111111112\n"
     ]
    }
   ],
   "source": [
    "print(\"Accuracy score: \", accuracy_score(y_test, rel))\n",
    "print(\"F1-score: \", f1_score(y_test, rel))\n",
    "print(\"Recall-score: \", recall_score(y_test,rel))"
   ]
  },
  {
   "cell_type": "code",
   "execution_count": null,
   "metadata": {},
   "outputs": [],
   "source": []
  }
 ],
 "metadata": {
  "kernelspec": {
   "display_name": "Python 3",
   "language": "python",
   "name": "python3"
  },
  "language_info": {
   "codemirror_mode": {
    "name": "ipython",
    "version": 3
   },
   "file_extension": ".py",
   "mimetype": "text/x-python",
   "name": "python",
   "nbconvert_exporter": "python",
   "pygments_lexer": "ipython3",
   "version": "3.8.5"
  }
 },
 "nbformat": 4,
 "nbformat_minor": 4
}
