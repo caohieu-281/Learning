{
 "cells": [
  {
   "cell_type": "code",
   "execution_count": 1,
   "metadata": {},
   "outputs": [],
   "source": [
    "import seaborn as sns\n",
    "import keras\n",
    "import matplotlib.pyplot as plt\n",
    "import numpy as np\n",
    "from sklearn.model_selection import train_test_split\n",
    "from sklearn.metrics import confusion_matrix\n",
    "\n",
    "from tensorflow.keras import backend as K\n",
    "from tensorflow.keras.models import Sequential\n",
    "from tensorflow.keras.layers import Conv2D, Lambda, MaxPooling2D # convolution layers\n",
    "from tensorflow.keras.layers import Dense, Dropout, Flatten # core layers\n",
    "from tensorflow.keras.optimizers import Adam\n",
    "\n",
    "from keras.layers.normalization import BatchNormalization\n",
    "\n",
    "from tensorflow.keras.preprocessing.image import ImageDataGenerator\n",
    "\n",
    "from keras.utils.np_utils import to_categorical\n",
    "\n",
    "from keras.datasets import mnist"
   ]
  },
  {
   "cell_type": "code",
   "execution_count": 2,
   "metadata": {},
   "outputs": [
    {
     "data": {
      "image/png": "[encoded data removed]",
      "text/plain": [
       "<Figure size 432x288 with 1 Axes>"
      ]
     },
     "metadata": {
      "needs_background": "light"
     },
     "output_type": "display_data"
    }
   ],
   "source": [
    "(X_train,y_train),(X_test,y_test)=mnist.load_data()\n",
    "plt.imshow(X_train[0], cmap=plt.get_cmap('gray'))\n",
    "plt.show()"
   ]
  },
  {
   "cell_type": "code",
   "execution_count": 4,
   "metadata": {},
   "outputs": [
    {
     "data": {
      "text/plain": [
       "(array([    4,    19,    22, ..., 59973, 59990, 59992]),)"
      ]
     },
     "execution_count": 4,
     "metadata": {},
     "output_type": "execute_result"
    }
   ],
   "source": [
    "np.where(y_train == 9)"
   ]
  },
  {
   "cell_type": "code",
   "execution_count": 8,
   "metadata": {},
   "outputs": [
    {
     "data": {
      "image/png": "[encoded data removed]",
      "text/plain": [
       "<Figure size 432x288 with 1 Axes>"
      ]
     },
     "metadata": {
      "needs_background": "light"
     },
     "output_type": "display_data"
    }
   ],
   "source": [
    "plt.imshow(X_train[22], cmap=plt.get_cmap('gray'))\n",
    "plt.show()"
   ]
  },
  {
   "cell_type": "code",
   "execution_count": 3,
   "metadata": {},
   "outputs": [],
   "source": [
    "X_train = X_train.reshape(60000, 28, 28, 1)\n",
    "X_train=X_train/255\n",
    "\n",
    "X_test = X_test.reshape(10000, 28, 28, 1)\n",
    "X_test = X_test / 255"
   ]
  },
  {
   "cell_type": "code",
   "execution_count": 4,
   "metadata": {},
   "outputs": [],
   "source": [
    "from keras.utils import np_utils\n",
    "y_train = np_utils.to_categorical(y_train)\n",
    "y_test = np_utils.to_categorical(y_test)\n",
    "num_classes = y_test.shape[1]"
   ]
  },
  {
   "cell_type": "code",
   "execution_count": 5,
   "metadata": {},
   "outputs": [
    {
     "name": "stdout",
     "output_type": "stream",
     "text": [
      "Model: \"sequential\"\n",
      "_________________________________________________________________\n",
      "Layer (type)                 Output Shape              Param #   \n",
      "=================================================================\n",
      "conv2d (Conv2D)              (None, 26, 26, 32)        320       \n",
      "_________________________________________________________________\n",
      "conv2d_1 (Conv2D)            (None, 24, 24, 64)        18496     \n",
      "_________________________________________________________________\n",
      "flatten (Flatten)            (None, 36864)             0         \n",
      "_________________________________________________________________\n",
      "dense (Dense)                (None, 10)                368650    \n",
      "=================================================================\n",
      "Total params: 387,466\n",
      "Trainable params: 387,466\n",
      "Non-trainable params: 0\n",
      "_________________________________________________________________\n"
     ]
    }
   ],
   "source": [
    "model = Sequential()\n",
    "\n",
    "model.add(Conv2D(32, kernel_size=3, activation='relu', input_shape=(28, 28, 1)))\n",
    "model.add(Conv2D(64, kernel_size=3, activation='relu'))\n",
    "model.add(Flatten())\n",
    "model.add(Dense(10, activation='softmax'))\n",
    "\n",
    "model.summary()"
   ]
  },
  {
   "cell_type": "code",
   "execution_count": 6,
   "metadata": {},
   "outputs": [
    {
     "name": "stdout",
     "output_type": "stream",
     "text": [
      "Epoch 1/5\n",
      "1875/1875 [==============================] - 74s 40ms/step - loss: 0.1212 - accuracy: 0.9622 - val_loss: 0.0559 - val_accuracy: 0.9817\n",
      "Epoch 2/5\n",
      "1875/1875 [==============================] - 71s 38ms/step - loss: 0.0441 - accuracy: 0.9868 - val_loss: 0.0408 - val_accuracy: 0.9885\n",
      "Epoch 3/5\n",
      "1875/1875 [==============================] - 73s 39ms/step - loss: 0.0273 - accuracy: 0.9911 - val_loss: 0.0459 - val_accuracy: 0.9864\n",
      "Epoch 4/5\n",
      "1875/1875 [==============================] - 72s 38ms/step - loss: 0.0174 - accuracy: 0.9944 - val_loss: 0.0472 - val_accuracy: 0.9870\n",
      "Epoch 5/5\n",
      "1875/1875 [==============================] - 72s 38ms/step - loss: 0.0116 - accuracy: 0.9965 - val_loss: 0.0687 - val_accuracy: 0.9838\n"
     ]
    },
    {
     "data": {
      "text/plain": [
       "<tensorflow.python.keras.callbacks.History at 0x7f60a4ff7160>"
      ]
     },
     "execution_count": 6,
     "metadata": {},
     "output_type": "execute_result"
    }
   ],
   "source": [
    "model.compile(optimizer='adam', loss='categorical_crossentropy', metrics=['accuracy'])\n",
    "model.fit(X_train, y_train, validation_data=(X_test, y_test), epochs= 5, batch_size= 32)"
   ]
  },
  {
   "cell_type": "code",
   "execution_count": 5,
   "metadata": {},
   "outputs": [
    {
     "name": "stdout",
     "output_type": "stream",
     "text": [
      "Model: \"sequential\"\n",
      "_________________________________________________________________\n",
      "Layer (type)                 Output Shape              Param #   \n",
      "=================================================================\n",
      "conv2d (Conv2D)              (None, 28, 28, 32)        832       \n",
      "_________________________________________________________________\n",
      "max_pooling2d (MaxPooling2D) (None, 14, 14, 32)        0         \n",
      "_________________________________________________________________\n",
      "conv2d_1 (Conv2D)            (None, 14, 14, 32)        9248      \n",
      "_________________________________________________________________\n",
      "max_pooling2d_1 (MaxPooling2 (None, 7, 7, 32)          0         \n",
      "_________________________________________________________________\n",
      "flatten (Flatten)            (None, 1568)              0         \n",
      "_________________________________________________________________\n",
      "dense (Dense)                (None, 64)                100416    \n",
      "_________________________________________________________________\n",
      "dropout (Dropout)            (None, 64)                0         \n",
      "_________________________________________________________________\n",
      "dense_1 (Dense)              (None, 64)                4160      \n",
      "_________________________________________________________________\n",
      "dropout_1 (Dropout)          (None, 64)                0         \n",
      "_________________________________________________________________\n",
      "dense_2 (Dense)              (None, 10)                650       \n",
      "=================================================================\n",
      "Total params: 115,306\n",
      "Trainable params: 115,306\n",
      "Non-trainable params: 0\n",
      "_________________________________________________________________\n"
     ]
    }
   ],
   "source": [
    "model_ano = Sequential()\n",
    "model_ano.add(Conv2D(32, (5, 5), padding=\"same\", activation='relu', input_shape=(28, 28, 1)))\n",
    "model_ano.add(MaxPooling2D(pool_size=(2, 2)))\n",
    "\n",
    "# second set of CONV => RELU => POOL layers\n",
    "model_ano.add(Conv2D(32, (3, 3), padding=\"same\", activation='relu'))\n",
    "model_ano.add(MaxPooling2D(pool_size=(2, 2)))\n",
    "\n",
    "# first set of FC => RELU layers\n",
    "model_ano.add(Flatten())\n",
    "model_ano.add(Dense(64, activation='relu'))\n",
    "model_ano.add(Dropout(0.5))\n",
    "\n",
    "# second set of FC => RELU layers\n",
    "model_ano.add(Dense(64, activation='relu'))\n",
    "model_ano.add(Dropout(0.5))\n",
    "\n",
    "# softmax classifier\n",
    "model_ano.add(Dense(10, activation= 'softmax'))\n",
    "\n",
    "model_ano.summary()"
   ]
  },
  {
   "cell_type": "code",
   "execution_count": 6,
   "metadata": {},
   "outputs": [
    {
     "name": "stdout",
     "output_type": "stream",
     "text": [
      "Epoch 1/10\n",
      "469/469 [==============================] - 35s 74ms/step - loss: 0.7260 - accuracy: 0.7580 - val_loss: 0.0975 - val_accuracy: 0.9719\n",
      "Epoch 2/10\n",
      "469/469 [==============================] - 45s 95ms/step - loss: 0.2851 - accuracy: 0.9138 - val_loss: 0.0695 - val_accuracy: 0.9797\n",
      "Epoch 3/10\n",
      "469/469 [==============================] - 31s 65ms/step - loss: 0.2187 - accuracy: 0.9345 - val_loss: 0.0523 - val_accuracy: 0.9855\n",
      "Epoch 4/10\n",
      "469/469 [==============================] - 32s 69ms/step - loss: 0.1805 - accuracy: 0.9460 - val_loss: 0.0455 - val_accuracy: 0.9873\n",
      "Epoch 5/10\n",
      "469/469 [==============================] - 35s 74ms/step - loss: 0.1578 - accuracy: 0.9529 - val_loss: 0.0432 - val_accuracy: 0.9876\n",
      "Epoch 6/10\n",
      "469/469 [==============================] - 33s 69ms/step - loss: 0.1496 - accuracy: 0.9555 - val_loss: 0.0404 - val_accuracy: 0.9884\n",
      "Epoch 7/10\n",
      "469/469 [==============================] - 34s 73ms/step - loss: 0.1329 - accuracy: 0.9611 - val_loss: 0.0350 - val_accuracy: 0.9903\n",
      "Epoch 8/10\n",
      "469/469 [==============================] - 36s 77ms/step - loss: 0.1229 - accuracy: 0.9637 - val_loss: 0.0331 - val_accuracy: 0.9903\n",
      "Epoch 9/10\n",
      "469/469 [==============================] - 36s 77ms/step - loss: 0.1105 - accuracy: 0.9669 - val_loss: 0.0343 - val_accuracy: 0.9892\n",
      "Epoch 10/10\n",
      "469/469 [==============================] - 36s 76ms/step - loss: 0.1052 - accuracy: 0.9672 - val_loss: 0.0321 - val_accuracy: 0.9906\n"
     ]
    },
    {
     "data": {
      "text/plain": [
       "<tensorflow.python.keras.callbacks.History at 0x7f5c4ed182b0>"
      ]
     },
     "execution_count": 6,
     "metadata": {},
     "output_type": "execute_result"
    }
   ],
   "source": [
    "model_ano.compile(loss=\"categorical_crossentropy\", optimizer= Adam(lr= 1e-3), metrics=[\"accuracy\"])\n",
    "model_ano.fit(X_train, y_train, validation_data=(X_test, y_test), batch_size= 128, epochs= 10, verbose=1)"
   ]
  },
  {
   "cell_type": "code",
   "execution_count": 7,
   "metadata": {},
   "outputs": [],
   "source": [
    "model_ano.save('mnist_digits.h5')"
   ]
  },
  {
   "cell_type": "code",
   "execution_count": 8,
   "metadata": {},
   "outputs": [],
   "source": [
    "from tensorflow.keras.models import load_model\n",
    "new_model = load_model('mnist_digits.h5')"
   ]
  },
  {
   "cell_type": "code",
   "execution_count": 9,
   "metadata": {},
   "outputs": [],
   "source": [
    "import cv2 as cv"
   ]
  },
  {
   "cell_type": "code",
   "execution_count": 10,
   "metadata": {},
   "outputs": [
    {
     "data": {
      "text/plain": [
       "(700, 700)"
      ]
     },
     "execution_count": 10,
     "metadata": {},
     "output_type": "execute_result"
    },
    {
     "data": {
      "image/png": "[encoded data removed]",
      "text/plain": [
       "<Figure size 432x288 with 1 Axes>"
      ]
     },
     "metadata": {
      "needs_background": "light"
     },
     "output_type": "display_data"
    }
   ],
   "source": [
    "test_image = cv.imread('6.jpg',0)\n",
    "plt.imshow(test_image,cmap='gray')\n",
    "test_image.shape"
   ]
  },
  {
   "cell_type": "code",
   "execution_count": 11,
   "metadata": {},
   "outputs": [
    {
     "name": "stdout",
     "output_type": "stream",
     "text": [
      "[[0. 0. 0. 0. 0. 0. 1. 0. 0. 0.]]\n"
     ]
    }
   ],
   "source": [
    "import tensorflow as tf\n",
    "ret, thresh = cv.threshold(test_image.copy(), 75, 255, cv.THRESH_BINARY_INV)\n",
    "resized_digit = cv.resize(thresh, (28,28))\n",
    "resized_digit = resized_digit.reshape(1, 28, 28, 1)\n",
    "resized_digit = tf.cast(resized_digit, tf.float32)\n",
    "prediction = new_model.predict(resized_digit)\n",
    "print(prediction)"
   ]
  },
  {
   "cell_type": "code",
   "execution_count": 16,
   "metadata": {},
   "outputs": [],
   "source": [
    "def prediction(test_image):\n",
    "    classes = np.argmax(new_model.predict(test_image), axis=-1)\n",
    "    print(classes)\n",
    "#     if classes == [[0]]:\n",
    "#         return 0\n",
    "#     elif classes == [[1]]:\n",
    "#         return 1\n",
    "#     elif classes == [[2]]:\n",
    "#         return 2\n",
    "#     elif classes == [[3]]:\n",
    "#         return 3\n",
    "#     elif classes == [[4]]:\n",
    "#         return 4\n",
    "#     elif classes == [[5]]:\n",
    "#         return 5\n",
    "#     elif classes == [[6]]:\n",
    "#         return 6\n",
    "#     elif classes == [[7]]:\n",
    "#         return 7\n",
    "#     elif classes == [[8]]:\n",
    "#         return 8\n",
    "#     elif classes == [[9]]:\n",
    "#         return 9"
   ]
  },
  {
   "cell_type": "code",
   "execution_count": 17,
   "metadata": {},
   "outputs": [
    {
     "name": "stdout",
     "output_type": "stream",
     "text": [
      "[6]\n"
     ]
    }
   ],
   "source": [
    "prediction(resized_digit)"
   ]
  },
  {
   "cell_type": "code",
   "execution_count": null,
   "metadata": {},
   "outputs": [],
   "source": []
  }
 ],
 "metadata": {
  "kernelspec": {
   "display_name": "Python 3",
   "language": "python",
   "name": "python3"
  },
  "language_info": {
   "codemirror_mode": {
    "name": "ipython",
    "version": 3
   },
   "file_extension": ".py",
   "mimetype": "text/x-python",
   "name": "python",
   "nbconvert_exporter": "python",
   "pygments_lexer": "ipython3",
   "version": "3.8.8"
  }
 },
 "nbformat": 4,
 "nbformat_minor": 4
}
