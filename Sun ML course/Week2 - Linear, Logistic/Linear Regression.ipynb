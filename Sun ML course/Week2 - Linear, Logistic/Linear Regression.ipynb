{
 "cells": [
  {
   "cell_type": "code",
   "execution_count": 1,
   "metadata": {},
   "outputs": [],
   "source": [
    "import numpy as np\n",
    "import pandas as pd\n",
    "import matplotlib.pyplot as plt"
   ]
  },
  {
   "cell_type": "code",
   "execution_count": 4,
   "metadata": {},
   "outputs": [],
   "source": [
    "X = np.random.normal"
   ]
  },
  {
   "cell_type": "code",
   "execution_count": 9,
   "metadata": {},
   "outputs": [
    {
     "data": {
      "text/plain": [
       "array([36, 54, 18, 57, 64, 18, 31, 27, 56, 49, 58,  6, 13, 20, 13, 37,  2,\n",
       "       54, 30,  9, 68, 54, 11, 11, 28, 19, 52, 53, 43, 23, 26, 57, 45, 36,\n",
       "       28, 41, 44, 59,  3, 14, 59, 58,  3, 35, 66,  7, 22, 61,  8,  4, 31,\n",
       "       43, 44, 55,  4,  9, 17, 34, 42, 60, 61, 38, 22, 48, 39,  6, 41, 50,\n",
       "       20, 26, 40, 31, 60, 44, 33, 65, 17, 54, 44, 19, 11, 30, 63,  1,  8,\n",
       "       45, 20, 56, 53,  2, 61, 43, 46, 59, 26, 28, 49, 43, 50, 65])"
      ]
     },
     "execution_count": 9,
     "metadata": {},
     "output_type": "execute_result"
    }
   ],
   "source": [
    "X = np.random.randint(1, 72, 100)\n",
    "X"
   ]
  },
  {
   "cell_type": "code",
   "execution_count": 8,
   "metadata": {},
   "outputs": [
    {
     "data": {
      "text/plain": [
       "(100,)"
      ]
     },
     "execution_count": 8,
     "metadata": {},
     "output_type": "execute_result"
    }
   ],
   "source": [
    "X.shape"
   ]
  },
  {
   "cell_type": "code",
   "execution_count": 12,
   "metadata": {},
   "outputs": [
    {
     "data": {
      "text/plain": [
       "array([33.84865663, 25.56047268,  3.92111601, 22.69788826, 17.47396805,\n",
       "       32.67798263, 19.80658148, 26.68906435,  3.3144793 , 22.10716615,\n",
       "       13.8682227 , 34.55902979,  0.31675285, 31.58701967, 37.0530788 ,\n",
       "        6.29896488, 15.2212826 ,  2.76837387, -1.26476599, 27.60877384,\n",
       "       21.48317808,  8.14960146,  8.25719943, 29.82988308, 27.33555934,\n",
       "       25.77056643, 11.91989671, 34.73426844,  5.95699898, 17.22496009,\n",
       "       28.0739144 , 15.44713903, 31.46098233, 17.79977695, 35.32461836,\n",
       "       22.85174974, 14.97441991, 21.56939979, 31.07886863, 33.24505679,\n",
       "       20.36721351, 30.00800533,  0.44789351, 24.89297453, 30.8946018 ,\n",
       "       39.47128482, 31.87929796, 42.54246655, 12.53324095, 19.56826374,\n",
       "       18.01421613, 38.02063514, 20.9397918 , 10.82174449,  9.23975683,\n",
       "       21.94668776, 31.10250504, 33.6104334 , 31.89273885,  9.60951348,\n",
       "        0.54783238,  8.0952056 ,  9.34913484, 27.63911332, 29.52676102,\n",
       "       11.24569193, 18.36307847, 26.60370419, 33.64991376, 20.3267905 ,\n",
       "       23.01456668, 31.78624498, 29.19349961,  8.41587589,  3.51290252,\n",
       "       33.54970074, 17.69857597, 22.77135442, -0.0775866 ,  5.82233385,\n",
       "       17.48627958, 38.42145646, 13.1953012 , -2.12192843, 35.99536127,\n",
       "       25.30226125,  8.48201661, 30.53241642, -1.63445044, 11.56824845,\n",
       "       40.56995341, 26.39661718, 33.74094975, 38.47170096, 25.44358981,\n",
       "        8.45129378,  2.68164996,  6.48864675, 13.13391614, 12.80205646])"
      ]
     },
     "execution_count": 12,
     "metadata": {},
     "output_type": "execute_result"
    }
   ],
   "source": [
    "# y = 0.54x - 0.77\n",
    "Y = 0.54 * X - 0.77 + np.random.normal(scale= 3, size= X.shape)\n",
    "Y"
   ]
  },
  {
   "cell_type": "code",
   "execution_count": 5,
   "metadata": {},
   "outputs": [
    {
     "data": {
      "image/png": "[encoded data removed]",
      "text/plain": [
       "<Figure size 432x288 with 1 Axes>"
      ]
     },
     "metadata": {
      "needs_background": "light"
     },
     "output_type": "display_data"
    }
   ],
   "source": [
    "plt.scatter(X, Y)\n",
    "plt.show()"
   ]
  },
  {
   "cell_type": "code",
   "execution_count": 7,
   "metadata": {},
   "outputs": [],
   "source": [
    "A = np.array([[100, np.sum(X)], [np.sum(X), X.T @ X]])\n",
    "c = np.array([np.sum(Y), np.sum(Y * X)])"
   ]
  },
  {
   "cell_type": "code",
   "execution_count": 8,
   "metadata": {},
   "outputs": [],
   "source": [
    "alpha, beta = np.linalg.inv(A) @ c"
   ]
  },
  {
   "cell_type": "code",
   "execution_count": 9,
   "metadata": {},
   "outputs": [
    {
     "data": {
      "text/plain": [
       "(-1.5280046736061053, 0.5518912450896067)"
      ]
     },
     "execution_count": 9,
     "metadata": {},
     "output_type": "execute_result"
    }
   ],
   "source": [
    "alpha, beta"
   ]
  },
  {
   "cell_type": "code",
   "execution_count": 13,
   "metadata": {},
   "outputs": [
    {
     "data": {
      "image/png": "[encoded data removed]",
      "text/plain": [
       "<Figure size 432x288 with 1 Axes>"
      ]
     },
     "metadata": {
      "needs_background": "light"
     },
     "output_type": "display_data"
    }
   ],
   "source": [
    "plt.scatter(X, Y)\n",
    "x_do = np.array([0, 72])\n",
    "plt.plot(x_do, beta * x_do + alpha, color= 'red')\n",
    "plt.show()"
   ]
  },
  {
   "cell_type": "code",
   "execution_count": 15,
   "metadata": {},
   "outputs": [
    {
     "data": {
      "text/plain": [
       "array([[ 1.        , 48.        ,  6.72850662],\n",
       "       [ 1.        , 59.        ,  7.20338491],\n",
       "       [ 1.        , 30.        , 10.54606771],\n",
       "       [ 1.        , 66.        , 12.68682237],\n",
       "       [ 1.        , 68.        , 12.17893746],\n",
       "       [ 1.        , 63.        ,  6.33992725],\n",
       "       [ 1.        , 31.        , 12.06155502],\n",
       "       [ 1.        , 50.        , 11.79902045],\n",
       "       [ 1.        , 42.        ,  9.31792361],\n",
       "       [ 1.        , 46.        ,  8.8746926 ],\n",
       "       [ 1.        , 21.        ,  9.31150356],\n",
       "       [ 1.        , 33.        , 16.73337512],\n",
       "       [ 1.        , 44.        ,  5.39392009],\n",
       "       [ 1.        ,  6.        ,  7.39202616],\n",
       "       [ 1.        , 41.        ,  8.16401121],\n",
       "       [ 1.        , 60.        ,  8.41168587],\n",
       "       [ 1.        , 31.        , 11.020774  ],\n",
       "       [ 1.        , 25.        ,  8.67470667],\n",
       "       [ 1.        , 32.        ,  9.95643997],\n",
       "       [ 1.        , 36.        ,  8.31770121],\n",
       "       [ 1.        , 50.        ,  4.86772991],\n",
       "       [ 1.        , 60.        ,  2.5218745 ],\n",
       "       [ 1.        , 72.        , 10.19034976],\n",
       "       [ 1.        , 35.        ,  9.39418608],\n",
       "       [ 1.        , 34.        ,  6.72760731],\n",
       "       [ 1.        , 35.        , 11.31974227],\n",
       "       [ 1.        , 40.        ,  7.0773753 ],\n",
       "       [ 1.        , 31.        , 16.62613536],\n",
       "       [ 1.        , 45.        , 10.53613196],\n",
       "       [ 1.        , 54.        ,  7.87038128],\n",
       "       [ 1.        , 71.        , 10.69946585],\n",
       "       [ 1.        , 17.        , 14.95780502],\n",
       "       [ 1.        ,  6.        , 19.99000719],\n",
       "       [ 1.        , 39.        ,  9.28659716],\n",
       "       [ 1.        ,  1.        ,  7.60378504],\n",
       "       [ 1.        , 24.        ,  2.53571385],\n",
       "       [ 1.        , 46.        , 19.27624291],\n",
       "       [ 1.        , 55.        ,  8.74859911],\n",
       "       [ 1.        , 22.        ,  8.87332754],\n",
       "       [ 1.        , 42.        , 10.49802156],\n",
       "       [ 1.        , 19.        , 15.32215688],\n",
       "       [ 1.        ,  3.        , 13.50861348],\n",
       "       [ 1.        , 24.        , 13.83749512],\n",
       "       [ 1.        , 48.        ,  4.17178733],\n",
       "       [ 1.        , 26.        ,  7.39988442],\n",
       "       [ 1.        , 25.        , 11.04504492],\n",
       "       [ 1.        , 71.        , 15.2492379 ],\n",
       "       [ 1.        , 72.        , 10.39965316],\n",
       "       [ 1.        , 45.        ,  7.89016338],\n",
       "       [ 1.        ,  8.        , 11.00875093],\n",
       "       [ 1.        ,  9.        ,  2.53452266],\n",
       "       [ 1.        , 68.        ,  9.36115563],\n",
       "       [ 1.        , 39.        , 12.23588249],\n",
       "       [ 1.        , 50.        , 14.06064953],\n",
       "       [ 1.        , 12.        ,  7.09125375],\n",
       "       [ 1.        , 18.        , 18.10879206],\n",
       "       [ 1.        , 14.        , 18.87761486],\n",
       "       [ 1.        ,  1.        , 11.9564408 ],\n",
       "       [ 1.        , 54.        , 10.16343003],\n",
       "       [ 1.        , 65.        , 12.54352461],\n",
       "       [ 1.        , 18.        , 24.42104887],\n",
       "       [ 1.        , 34.        ,  7.06115023],\n",
       "       [ 1.        , 25.        ,  8.80859268],\n",
       "       [ 1.        , 28.        ,  6.51352702],\n",
       "       [ 1.        , 28.        ,  6.4260454 ],\n",
       "       [ 1.        , 35.        ,  4.26004981],\n",
       "       [ 1.        , 22.        , 14.1341501 ],\n",
       "       [ 1.        , 13.        ,  1.33468998],\n",
       "       [ 1.        , 63.        , 12.97317167],\n",
       "       [ 1.        , 57.        , 11.79828658],\n",
       "       [ 1.        ,  7.        , 16.12671735],\n",
       "       [ 1.        , 54.        ,  6.66507255],\n",
       "       [ 1.        , 10.        ,  7.22916405],\n",
       "       [ 1.        , 11.        ,  8.9172759 ],\n",
       "       [ 1.        ,  2.        , 10.43862019],\n",
       "       [ 1.        , 35.        ,  9.34800203],\n",
       "       [ 1.        , 62.        ,  4.49169573],\n",
       "       [ 1.        , 63.        , 11.58463759],\n",
       "       [ 1.        , 50.        , 14.19371402],\n",
       "       [ 1.        , 13.        ,  1.21146397],\n",
       "       [ 1.        , 21.        , 12.4078652 ],\n",
       "       [ 1.        , 56.        ,  8.8601379 ],\n",
       "       [ 1.        , 20.        ,  7.64671153],\n",
       "       [ 1.        , 34.        , 23.44884599],\n",
       "       [ 1.        , 50.        ,  5.99444744],\n",
       "       [ 1.        , 13.        , 19.21631951],\n",
       "       [ 1.        , 50.        , 14.76108394],\n",
       "       [ 1.        , 13.        ,  6.65786563],\n",
       "       [ 1.        , 71.        , 12.17183189],\n",
       "       [ 1.        ,  4.        ,  3.20546755],\n",
       "       [ 1.        , 19.        ,  4.47142375],\n",
       "       [ 1.        , 21.        ,  7.37309025],\n",
       "       [ 1.        , 65.        ,  3.17479609],\n",
       "       [ 1.        , 14.        ,  6.04142947],\n",
       "       [ 1.        , 64.        , 11.50544438],\n",
       "       [ 1.        , 48.        , 14.32181931],\n",
       "       [ 1.        , 13.        ,  5.756146  ],\n",
       "       [ 1.        , 70.        ,  0.81459978],\n",
       "       [ 1.        , 54.        , 12.56572755],\n",
       "       [ 1.        , 47.        , 11.85219841]])"
      ]
     },
     "execution_count": 15,
     "metadata": {},
     "output_type": "execute_result"
    }
   ],
   "source": [
    "columns = [\n",
    "    np.ones((100, 1)),\n",
    "    np.random.randint(1, 72 + 1, (100, 1)),\n",
    "    np.abs(np.random.normal(10, 5, (100, 1)))\n",
    "]\n",
    "X_train = np.hstack(columns)\n",
    "X_train"
   ]
  },
  {
   "cell_type": "code",
   "execution_count": null,
   "metadata": {},
   "outputs": [],
   "source": [
    "Y"
   ]
  },
  {
   "cell_type": "code",
   "execution_count": 20,
   "metadata": {},
   "outputs": [
    {
     "data": {
      "text/plain": [
       "array([29.90995464, 35.74236943, 23.5822474 , 43.08077566, 43.72525622,\n",
       "       37.13794908, 25.14308851, 34.45931431, 28.72254653, 30.41228482,\n",
       "       18.21805249, 29.41336258, 26.97574406,  9.37441831, 27.41480785,\n",
       "       37.08818011, 24.4145418 , 19.77229467, 24.16950798, 25.02239084,\n",
       "       29.60741093, 32.96531215, 44.33324483, 25.27593026, 22.90932512,\n",
       "       26.62381959, 26.15416271, 28.33829475, 31.07529237, 33.7092669 ,\n",
       "       44.1896261 , 20.17046352, 18.19300504, 27.20061801,  7.02264953,\n",
       "       14.97499969, 37.69337003, 34.82401938, 18.41132928, 29.54861509,\n",
       "       21.42550982, 12.15602944, 22.88624658, 28.12025113, 19.37991909,\n",
       "       21.43153144, 47.37446653, 44.47975721, 29.22311437, 12.90612565,\n",
       "        7.47416586, 41.75280894, 29.26511774, 36.04245467, 12.16387762,\n",
       "       22.87615444, 21.4143304 , 10.06950856, 35.31440102, 42.48046723,\n",
       "       27.29473421, 23.14280516, 19.86601488, 19.75946891, 19.69823178,\n",
       "       21.68203487, 22.09390507,  8.63428299, 41.78122017, 37.95880061,\n",
       "       15.98870214, 32.86555079, 11.26041484, 12.94209313,  9.50703413,\n",
       "       25.24360142, 35.34418701, 40.80924631, 36.13559981,  8.54802478,\n",
       "       20.38550564, 35.40209653, 16.55269807, 34.61419219, 30.39611321,\n",
       "       21.15142366, 36.53275876, 12.36050594, 45.22028232,  5.44382728,\n",
       "       13.82999663, 16.86116317, 35.92235727, 12.42900063, 41.25381107,\n",
       "       35.22527352, 11.7293022 , 36.77021985, 36.99600929, 32.99653888])"
      ]
     },
     "execution_count": 20,
     "metadata": {},
     "output_type": "execute_result"
    }
   ],
   "source": [
    "theta = [1.2, 0.5, 0.7]\n",
    "y_train = X_train @ theta\n",
    "y_train"
   ]
  },
  {
   "cell_type": "code",
   "execution_count": null,
   "metadata": {},
   "outputs": [],
   "source": [
    "import itertools\n",
    "compa = [x for x in itertools.product(range(1, 10), repeat=9)]\n",
    "len(compa)"
   ]
  },
  {
   "cell_type": "code",
   "execution_count": null,
   "metadata": {},
   "outputs": [],
   "source": [
    "import itertools\n",
    "compa = []\n",
    "for x in itertools.product(range(1, 10), repeat=9):\n",
    "    compa.append(x)\n",
    "len(compa)"
   ]
  },
  {
   "cell_type": "code",
   "execution_count": null,
   "metadata": {},
   "outputs": [],
   "source": []
  },
  {
   "cell_type": "code",
   "execution_count": null,
   "metadata": {},
   "outputs": [],
   "source": []
  },
  {
   "cell_type": "code",
   "execution_count": null,
   "metadata": {},
   "outputs": [],
   "source": []
  },
  {
   "cell_type": "code",
   "execution_count": null,
   "metadata": {},
   "outputs": [],
   "source": []
  }
 ],
 "metadata": {
  "kernelspec": {
   "display_name": "Python 3",
   "language": "python",
   "name": "python3"
  },
  "language_info": {
   "codemirror_mode": {
    "name": "ipython",
    "version": 3
   },
   "file_extension": ".py",
   "mimetype": "text/x-python",
   "name": "python",
   "nbconvert_exporter": "python",
   "pygments_lexer": "ipython3",
   "version": "3.8.5"
  }
 },
 "nbformat": 4,
 "nbformat_minor": 4
}
