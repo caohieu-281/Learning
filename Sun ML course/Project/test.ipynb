{
 "cells": [
  {
   "cell_type": "code",
   "execution_count": 108,
   "metadata": {},
   "outputs": [
    {
     "name": "stdout",
     "output_type": "stream",
     "text": [
      "[[ 1  2  3  4  5  6  7  8  9 10]\n",
      " [11 12 13 14 15 16 17 18 19 20]\n",
      " [21 22 23 24 25 26 27 28 29 30]]\n"
     ]
    }
   ],
   "source": [
    "from numpy import array\n",
    "from numpy import diag\n",
    "from numpy import zeros\n",
    "from scipy.linalg import svd\n",
    "# define a matrix\n",
    "A = array([\n",
    "\t[1,2,3,4,5,6,7,8,9,10],\n",
    "\t[11,12,13,14,15,16,17,18,19,20],\n",
    "\t[21,22,23,24,25,26,27,28,29,30]])\n",
    "print(A)\n",
    "# Singular-value decomposition\n",
    "U, s, VT = svd(A)\n",
    "# create m x n Sigma matrix\n",
    "Sigma = zeros((A.shape[0], A.shape[1]))\n",
    "# populate Sigma with n x n diagonal matrix\n",
    "Sigma[:A.shape[0], :A.shape[0]] = diag(s)"
   ]
  },
  {
   "cell_type": "code",
   "execution_count": 109,
   "metadata": {},
   "outputs": [
    {
     "data": {
      "text/plain": [
       "((3, 10), (3, 3), (3, 10), (10, 10))"
      ]
     },
     "execution_count": 109,
     "metadata": {},
     "output_type": "execute_result"
    }
   ],
   "source": [
    "A.shape, U.shape, Sigma.shape, VT.shape"
   ]
  },
  {
   "cell_type": "code",
   "execution_count": 115,
   "metadata": {},
   "outputs": [
    {
     "data": {
      "text/plain": [
       "(array([[-0.19101157, -0.89266338,  0.40824829],\n",
       "        [-0.51371859, -0.26348917, -0.81649658],\n",
       "        [-0.8364256 ,  0.36568503,  0.40824829]]),\n",
       " array([[9.69657342e+01, 0.00000000e+00, 0.00000000e+00, 0.00000000e+00,\n",
       "         0.00000000e+00, 0.00000000e+00, 0.00000000e+00, 0.00000000e+00,\n",
       "         0.00000000e+00, 0.00000000e+00],\n",
       "        [0.00000000e+00, 7.25578339e+00, 0.00000000e+00, 0.00000000e+00,\n",
       "         0.00000000e+00, 0.00000000e+00, 0.00000000e+00, 0.00000000e+00,\n",
       "         0.00000000e+00, 0.00000000e+00],\n",
       "        [0.00000000e+00, 0.00000000e+00, 1.48879510e-15, 0.00000000e+00,\n",
       "         0.00000000e+00, 0.00000000e+00, 0.00000000e+00, 0.00000000e+00,\n",
       "         0.00000000e+00, 0.00000000e+00]]),\n",
       " array([[-0.24139304, -0.25728686, -0.27318068, -0.2890745 , -0.30496832,\n",
       "         -0.32086214, -0.33675595, -0.35264977, -0.36854359, -0.38443741],\n",
       "        [ 0.53589546,  0.42695236,  0.31800926,  0.20906617,  0.10012307,\n",
       "         -0.00882003, -0.11776313, -0.22670623, -0.33564933, -0.44459242],\n",
       "        [ 0.09975293, -0.01037753,  0.23987452,  0.05273845,  0.0996209 ,\n",
       "         -0.46517509, -0.52300449, -0.23591804,  0.593137  ,  0.14935136],\n",
       "        [-0.259848  , -0.19489762, -0.10988774,  0.9273013 , -0.07153728,\n",
       "         -0.05251768, -0.04829915, -0.05415057, -0.07582496, -0.0603383 ],\n",
       "        [-0.26312174, -0.0585767 , -0.12150761, -0.05740164,  0.9302533 ,\n",
       "         -0.0441965 , -0.05005435, -0.07728074, -0.13808364, -0.12003039],\n",
       "        [-0.34412869, -0.09157816,  0.43274424, -0.05958094, -0.05492318,\n",
       "          0.70339002, -0.33412339, -0.23272698,  0.08693936, -0.10601229],\n",
       "        [-0.3607094 ,  0.01575684,  0.51799467, -0.04727562, -0.05090152,\n",
       "         -0.33292338,  0.61579275, -0.27850803,  0.07385978, -0.15308609],\n",
       "        [-0.33345757,  0.21857007,  0.28415895, -0.02511566, -0.05422893,\n",
       "         -0.22221261, -0.27509879,  0.75032187, -0.10121342, -0.24172391],\n",
       "        [-0.23733137,  0.57140887, -0.45105898,  0.01252895, -0.06910398,\n",
       "          0.11951822,  0.08414965, -0.10361154,  0.46917172, -0.39567153],\n",
       "        [-0.30296011,  0.57190501, -0.00875539,  0.01380706, -0.05685882,\n",
       "         -0.08131326, -0.14406831, -0.23288126, -0.36263916,  0.60376424]]))"
      ]
     },
     "execution_count": 115,
     "metadata": {},
     "output_type": "execute_result"
    }
   ],
   "source": [
    "U, Sigma, VT"
   ]
  },
  {
   "cell_type": "code",
   "execution_count": 110,
   "metadata": {},
   "outputs": [
    {
     "name": "stdout",
     "output_type": "stream",
     "text": [
      "           0         1             2    3    4    5    6    7    8    9\n",
      "0  96.965734  0.000000  0.000000e+00  0.0  0.0  0.0  0.0  0.0  0.0  0.0\n",
      "1   0.000000  7.255783  0.000000e+00  0.0  0.0  0.0  0.0  0.0  0.0  0.0\n",
      "2   0.000000  0.000000  1.488795e-15  0.0  0.0  0.0  0.0  0.0  0.0  0.0\n"
     ]
    }
   ],
   "source": [
    "print(pd.DataFrame(Sigma))"
   ]
  },
  {
   "cell_type": "code",
   "execution_count": 111,
   "metadata": {},
   "outputs": [
    {
     "name": "stdout",
     "output_type": "stream",
     "text": [
      "           0         1\n",
      "0  96.965734  0.000000\n",
      "1   0.000000  7.255783\n",
      "2   0.000000  0.000000\n"
     ]
    }
   ],
   "source": [
    "#select\n",
    "n_elements = 2\n",
    "NSigma = Sigma[:, :n_elements]\n",
    "NVT = VT[:n_elements, :]\n",
    "print(pd.DataFrame(NSigma))"
   ]
  },
  {
   "cell_type": "code",
   "execution_count": 112,
   "metadata": {},
   "outputs": [
    {
     "data": {
      "text/plain": [
       "((3, 10), (3, 3), (3, 2), (2, 10))"
      ]
     },
     "execution_count": 112,
     "metadata": {},
     "output_type": "execute_result"
    }
   ],
   "source": [
    "A.shape, U.shape, NSigma.shape, NVT.shape"
   ]
  },
  {
   "cell_type": "code",
   "execution_count": 116,
   "metadata": {},
   "outputs": [
    {
     "data": {
      "text/plain": [
       "(array([[-0.19101157, -0.89266338,  0.40824829],\n",
       "        [-0.51371859, -0.26348917, -0.81649658],\n",
       "        [-0.8364256 ,  0.36568503,  0.40824829]]),\n",
       " array([[96.96573419,  0.        ],\n",
       "        [ 0.        ,  7.25578339],\n",
       "        [ 0.        ,  0.        ]]),\n",
       " array([[-0.24139304, -0.25728686, -0.27318068, -0.2890745 , -0.30496832,\n",
       "         -0.32086214, -0.33675595, -0.35264977, -0.36854359, -0.38443741],\n",
       "        [ 0.53589546,  0.42695236,  0.31800926,  0.20906617,  0.10012307,\n",
       "         -0.00882003, -0.11776313, -0.22670623, -0.33564933, -0.44459242]]))"
      ]
     },
     "execution_count": 116,
     "metadata": {},
     "output_type": "execute_result"
    }
   ],
   "source": [
    "U, NSigma, NVT"
   ]
  },
  {
   "cell_type": "code",
   "execution_count": 113,
   "metadata": {},
   "outputs": [
    {
     "name": "stdout",
     "output_type": "stream",
     "text": [
      "[[ 1.  2.  3.  4.  5.  6.  7.  8.  9. 10.]\n",
      " [11. 12. 13. 14. 15. 16. 17. 18. 19. 20.]\n",
      " [21. 22. 23. 24. 25. 26. 27. 28. 29. 30.]]\n",
      "[[-18.52157747  -6.47697214]\n",
      " [-49.81310011  -1.91182038]\n",
      " [-81.10462276   2.65333138]]\n",
      "[[-18.52157747  -6.47697214]\n",
      " [-49.81310011  -1.91182038]\n",
      " [-81.10462276   2.65333138]]\n"
     ]
    }
   ],
   "source": [
    "# reconstruct\n",
    "B = U.dot(NSigma.dot(NVT))\n",
    "print(B)\n",
    "# transform\n",
    "T = U.dot(NSigma)\n",
    "print(T)\n",
    "T = A.dot(NVT.T)\n",
    "print(T)"
   ]
  },
  {
   "cell_type": "code",
   "execution_count": null,
   "metadata": {},
   "outputs": [],
   "source": []
  },
  {
   "cell_type": "code",
   "execution_count": null,
   "metadata": {},
   "outputs": [],
   "source": [
    "from sklearn.decomposition import TruncatedSVD"
   ]
  },
  {
   "cell_type": "code",
   "execution_count": 96,
   "metadata": {},
   "outputs": [],
   "source": [
    "ets = TruncatedSVD(n_components = 2).fit_transform(A)"
   ]
  },
  {
   "cell_type": "code",
   "execution_count": 97,
   "metadata": {},
   "outputs": [
    {
     "data": {
      "text/plain": [
       "array([[18.52157747,  6.47697214],\n",
       "       [49.81310011,  1.91182038],\n",
       "       [81.10462276, -2.65333138]])"
      ]
     },
     "execution_count": 97,
     "metadata": {},
     "output_type": "execute_result"
    }
   ],
   "source": [
    "ets"
   ]
  },
  {
   "cell_type": "code",
   "execution_count": null,
   "metadata": {},
   "outputs": [],
   "source": []
  }
 ],
 "metadata": {
  "kernelspec": {
   "display_name": "Python 3",
   "language": "python",
   "name": "python3"
  },
  "language_info": {
   "codemirror_mode": {
    "name": "ipython",
    "version": 3
   },
   "file_extension": ".py",
   "mimetype": "text/x-python",
   "name": "python",
   "nbconvert_exporter": "python",
   "pygments_lexer": "ipython3",
   "version": "3.8.5"
  }
 },
 "nbformat": 4,
 "nbformat_minor": 4
}
