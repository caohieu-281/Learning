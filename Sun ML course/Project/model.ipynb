{
 "cells": [
  {
   "cell_type": "code",
   "execution_count": 1,
   "metadata": {
    "id": "xKKx2bLhmTjI"
   },
   "outputs": [],
   "source": [
    "import pandas as pd \n",
    "import numpy as np \n",
    "\n",
    "from sklearn.neighbors import KNeighborsClassifier\n",
    "from sklearn.naive_bayes import GaussianNB\n",
    "from sklearn.linear_model import LinearRegression,LogisticRegression\n",
    "from sklearn.svm import SVC\n",
    "from sklearn.tree import DecisionTreeClassifier\n",
    "from sklearn.ensemble import RandomForestClassifier,VotingClassifier,StackingClassifier\n",
    "\n",
    "from sklearn.model_selection import train_test_split\n",
    "from sklearn.metrics import classification_report,accuracy_score,roc_auc_score\n",
    "\n",
    "from sklearn.decomposition import TruncatedSVD\n",
    "from sklearn.feature_extraction.text import TfidfVectorizer\n",
    "from sklearn.preprocessing import StandardScaler\n",
    "\n",
    "from bs4 import BeautifulSoup\n",
    "import re\n",
    "import nltk\n",
    "from nltk.corpus import stopwords\n",
    "from nltk.stem import PorterStemmer,WordNetLemmatizer\n",
    "\n",
    "import warnings\n",
    "#warnings.filterwarnings('ignore')"
   ]
  },
  {
   "cell_type": "code",
   "execution_count": 2,
   "metadata": {},
   "outputs": [],
   "source": [
    "import pandas as pd\n",
    "import numpy as np\n",
    "import matplotlib.pyplot as plt\n",
    "import seaborn as sns\n",
    "\n",
    "from sklearn.model_selection import train_test_split\n",
    "from sklearn.model_selection import KFold, StratifiedKFold\n",
    "from sklearn.svm import SVC\n",
    "from sklearn.tree import DecisionTreeClassifier\n",
    "from sklearn.neighbors import KNeighborsClassifier\n",
    "from sklearn.linear_model import LogisticRegression\n",
    "from sklearn.naive_bayes import GaussianNB\n",
    "\n",
    "from sklearn.ensemble import GradientBoostingClassifier\n",
    "from sklearn.ensemble import AdaBoostClassifier, ExtraTreesClassifier, RandomForestClassifier\n",
    "from sklearn.ensemble import StackingClassifier, VotingClassifier\n",
    "\n",
    "from catboost import CatBoostClassifier\n",
    "from xgboost import XGBClassifier\n",
    "from lightgbm import LGBMClassifier\n",
    "\n",
    "from sklearn.preprocessing import LabelEncoder\n",
    "from sklearn.metrics import accuracy_score, recall_score, roc_auc_score, classification_report\n",
    "\n",
    "from sklearn.preprocessing import StandardScaler\n",
    "\n",
    "from bs4 import BeautifulSoup\n",
    "import json\n",
    "import nltk\n",
    "import re\n",
    "from collections import Counter\n",
    "from nltk.corpus import stopwords\n",
    "from nltk.stem import PorterStemmer, WordNetLemmatizer\n",
    "from nltk.tokenize.punkt import PunktToken\n",
    "from nltk.stem.snowball import SnowballStemmer\n",
    "from sklearn.pipeline import Pipeline\n",
    "from sklearn.feature_extraction.text import TfidfVectorizer\n",
    "import lda\n",
    "from sklearn.decomposition import TruncatedSVD\n",
    "\n",
    "from urllib.parse import urlparse\n",
    "\n",
    "import warnings\n",
    "warnings.filterwarnings('ignore')"
   ]
  },
  {
   "cell_type": "code",
   "execution_count": 3,
   "metadata": {
    "id": "1T0gSNJKu6My"
   },
   "outputs": [],
   "source": [
    "df_train = pd.read_csv('new_train_data.csv')\n",
    "df_test = pd.read_csv('new_test_data.csv')"
   ]
  },
  {
   "cell_type": "code",
   "execution_count": 4,
   "metadata": {
    "colab": {
     "base_uri": "https://localhost:8080/",
     "height": 1000
    },
    "id": "5toPjeKnovpd",
    "outputId": "a8af0edc-fdb0-4a13-aa1c-39dd3e134d8e"
   },
   "outputs": [
    {
     "data": {
      "text/html": [
       "<div>\n",
       "<style scoped>\n",
       "    .dataframe tbody tr th:only-of-type {\n",
       "        vertical-align: middle;\n",
       "    }\n",
       "\n",
       "    .dataframe tbody tr th {\n",
       "        vertical-align: top;\n",
       "    }\n",
       "\n",
       "    .dataframe thead th {\n",
       "        text-align: right;\n",
       "    }\n",
       "</style>\n",
       "<table border=\"1\" class=\"dataframe\">\n",
       "  <thead>\n",
       "    <tr style=\"text-align: right;\">\n",
       "      <th></th>\n",
       "      <th>alchemy_category_score</th>\n",
       "      <th>avglinksize</th>\n",
       "      <th>commonlinkratio_1</th>\n",
       "      <th>commonlinkratio_2</th>\n",
       "      <th>commonlinkratio_3</th>\n",
       "      <th>commonlinkratio_4</th>\n",
       "      <th>compression_ratio</th>\n",
       "      <th>embed_ratio</th>\n",
       "      <th>frameTagRatio</th>\n",
       "      <th>hasDomainLink</th>\n",
       "      <th>...</th>\n",
       "      <th>6.0.1</th>\n",
       "      <th>7.0.1</th>\n",
       "      <th>8.0.1</th>\n",
       "      <th>9.0.1</th>\n",
       "      <th>Unnamed: 154</th>\n",
       "      <th>wordInHLT</th>\n",
       "      <th>wordError</th>\n",
       "      <th>lld_nol_prob</th>\n",
       "      <th>linkscoreprob</th>\n",
       "      <th>body</th>\n",
       "    </tr>\n",
       "  </thead>\n",
       "  <tbody>\n",
       "    <tr>\n",
       "      <th>0</th>\n",
       "      <td>0.789131</td>\n",
       "      <td>2.055556</td>\n",
       "      <td>0.676471</td>\n",
       "      <td>0.205882</td>\n",
       "      <td>0.047059</td>\n",
       "      <td>0.023529</td>\n",
       "      <td>0.443783</td>\n",
       "      <td>0.0</td>\n",
       "      <td>0.090774</td>\n",
       "      <td>0</td>\n",
       "      <td>...</td>\n",
       "      <td>0</td>\n",
       "      <td>0</td>\n",
       "      <td>0</td>\n",
       "      <td>0</td>\n",
       "      <td>0</td>\n",
       "      <td>1301.76</td>\n",
       "      <td>429.198815</td>\n",
       "      <td>0.800415</td>\n",
       "      <td>0.540297</td>\n",
       "      <td>IBM Sees Holographic Calls Air Breathing Batte...</td>\n",
       "    </tr>\n",
       "    <tr>\n",
       "      <th>1</th>\n",
       "      <td>0.574147</td>\n",
       "      <td>3.677966</td>\n",
       "      <td>0.508021</td>\n",
       "      <td>0.288770</td>\n",
       "      <td>0.213904</td>\n",
       "      <td>0.144385</td>\n",
       "      <td>0.468649</td>\n",
       "      <td>0.0</td>\n",
       "      <td>0.098707</td>\n",
       "      <td>0</td>\n",
       "      <td>...</td>\n",
       "      <td>0</td>\n",
       "      <td>0</td>\n",
       "      <td>0</td>\n",
       "      <td>0</td>\n",
       "      <td>0</td>\n",
       "      <td>1989.20</td>\n",
       "      <td>623.853048</td>\n",
       "      <td>0.804815</td>\n",
       "      <td>0.461285</td>\n",
       "      <td>The Fully Electronic Futuristic Starting Gun T...</td>\n",
       "    </tr>\n",
       "    <tr>\n",
       "      <th>2</th>\n",
       "      <td>0.996526</td>\n",
       "      <td>2.382883</td>\n",
       "      <td>0.562016</td>\n",
       "      <td>0.321705</td>\n",
       "      <td>0.120155</td>\n",
       "      <td>0.042636</td>\n",
       "      <td>0.525448</td>\n",
       "      <td>0.0</td>\n",
       "      <td>0.072448</td>\n",
       "      <td>0</td>\n",
       "      <td>...</td>\n",
       "      <td>0</td>\n",
       "      <td>0</td>\n",
       "      <td>0</td>\n",
       "      <td>0</td>\n",
       "      <td>0</td>\n",
       "      <td>1232.00</td>\n",
       "      <td>129.053499</td>\n",
       "      <td>0.803623</td>\n",
       "      <td>0.211520</td>\n",
       "      <td>Fruits that Fight the Flu fruits that fight th...</td>\n",
       "    </tr>\n",
       "    <tr>\n",
       "      <th>3</th>\n",
       "      <td>0.801248</td>\n",
       "      <td>1.543103</td>\n",
       "      <td>0.400000</td>\n",
       "      <td>0.100000</td>\n",
       "      <td>0.016667</td>\n",
       "      <td>0.000000</td>\n",
       "      <td>0.480725</td>\n",
       "      <td>0.0</td>\n",
       "      <td>0.095861</td>\n",
       "      <td>0</td>\n",
       "      <td>...</td>\n",
       "      <td>0</td>\n",
       "      <td>0</td>\n",
       "      <td>0</td>\n",
       "      <td>0</td>\n",
       "      <td>0</td>\n",
       "      <td>656.88</td>\n",
       "      <td>276.049356</td>\n",
       "      <td>0.790193</td>\n",
       "      <td>0.540297</td>\n",
       "      <td>10 Foolproof Tips for Better Sleep  There was ...</td>\n",
       "    </tr>\n",
       "    <tr>\n",
       "      <th>4</th>\n",
       "      <td>0.719157</td>\n",
       "      <td>2.676471</td>\n",
       "      <td>0.500000</td>\n",
       "      <td>0.222222</td>\n",
       "      <td>0.123457</td>\n",
       "      <td>0.043210</td>\n",
       "      <td>0.446143</td>\n",
       "      <td>0.0</td>\n",
       "      <td>0.024908</td>\n",
       "      <td>0</td>\n",
       "      <td>...</td>\n",
       "      <td>0</td>\n",
       "      <td>0</td>\n",
       "      <td>0</td>\n",
       "      <td>0</td>\n",
       "      <td>0</td>\n",
       "      <td>1684.48</td>\n",
       "      <td>993.467886</td>\n",
       "      <td>0.808067</td>\n",
       "      <td>0.561500</td>\n",
       "      <td>The 50 Coolest Jerseys You Didn t Know Existed...</td>\n",
       "    </tr>\n",
       "    <tr>\n",
       "      <th>...</th>\n",
       "      <td>...</td>\n",
       "      <td>...</td>\n",
       "      <td>...</td>\n",
       "      <td>...</td>\n",
       "      <td>...</td>\n",
       "      <td>...</td>\n",
       "      <td>...</td>\n",
       "      <td>...</td>\n",
       "      <td>...</td>\n",
       "      <td>...</td>\n",
       "      <td>...</td>\n",
       "      <td>...</td>\n",
       "      <td>...</td>\n",
       "      <td>...</td>\n",
       "      <td>...</td>\n",
       "      <td>...</td>\n",
       "      <td>...</td>\n",
       "      <td>...</td>\n",
       "      <td>...</td>\n",
       "      <td>...</td>\n",
       "      <td>...</td>\n",
       "    </tr>\n",
       "    <tr>\n",
       "      <th>7390</th>\n",
       "      <td>0.651067</td>\n",
       "      <td>3.010526</td>\n",
       "      <td>0.474747</td>\n",
       "      <td>0.222222</td>\n",
       "      <td>0.191919</td>\n",
       "      <td>0.191919</td>\n",
       "      <td>0.474273</td>\n",
       "      <td>0.0</td>\n",
       "      <td>0.177043</td>\n",
       "      <td>0</td>\n",
       "      <td>...</td>\n",
       "      <td>0</td>\n",
       "      <td>0</td>\n",
       "      <td>0</td>\n",
       "      <td>0</td>\n",
       "      <td>0</td>\n",
       "      <td>843.22</td>\n",
       "      <td>158.499999</td>\n",
       "      <td>0.562177</td>\n",
       "      <td>0.494403</td>\n",
       "      <td>Kno Raises 46 Million More To Build Most Power...</td>\n",
       "    </tr>\n",
       "    <tr>\n",
       "      <th>7391</th>\n",
       "      <td>0.141920</td>\n",
       "      <td>2.208054</td>\n",
       "      <td>0.483333</td>\n",
       "      <td>0.246667</td>\n",
       "      <td>0.036667</td>\n",
       "      <td>0.026667</td>\n",
       "      <td>0.558184</td>\n",
       "      <td>0.0</td>\n",
       "      <td>0.057377</td>\n",
       "      <td>0</td>\n",
       "      <td>...</td>\n",
       "      <td>0</td>\n",
       "      <td>0</td>\n",
       "      <td>0</td>\n",
       "      <td>0</td>\n",
       "      <td>0</td>\n",
       "      <td>1928.48</td>\n",
       "      <td>620.815919</td>\n",
       "      <td>0.817574</td>\n",
       "      <td>0.459249</td>\n",
       "      <td>Why I Miss College  Mar 30 2009 I d like to co...</td>\n",
       "    </tr>\n",
       "    <tr>\n",
       "      <th>7392</th>\n",
       "      <td>0.196273</td>\n",
       "      <td>2.000000</td>\n",
       "      <td>0.315789</td>\n",
       "      <td>0.171053</td>\n",
       "      <td>0.105263</td>\n",
       "      <td>0.052632</td>\n",
       "      <td>0.692529</td>\n",
       "      <td>0.0</td>\n",
       "      <td>0.124122</td>\n",
       "      <td>0</td>\n",
       "      <td>...</td>\n",
       "      <td>0</td>\n",
       "      <td>0</td>\n",
       "      <td>0</td>\n",
       "      <td>0</td>\n",
       "      <td>0</td>\n",
       "      <td>364.64</td>\n",
       "      <td>99.764706</td>\n",
       "      <td>0.787649</td>\n",
       "      <td>0.500000</td>\n",
       "      <td>Sweet Potatoes Eat This Not That  i'm eating t...</td>\n",
       "    </tr>\n",
       "    <tr>\n",
       "      <th>7393</th>\n",
       "      <td>0.617876</td>\n",
       "      <td>1.026316</td>\n",
       "      <td>0.210526</td>\n",
       "      <td>0.052632</td>\n",
       "      <td>0.000000</td>\n",
       "      <td>0.000000</td>\n",
       "      <td>21.000000</td>\n",
       "      <td>-1.0</td>\n",
       "      <td>0.097778</td>\n",
       "      <td>0</td>\n",
       "      <td>...</td>\n",
       "      <td>0</td>\n",
       "      <td>0</td>\n",
       "      <td>0</td>\n",
       "      <td>0</td>\n",
       "      <td>0</td>\n",
       "      <td>142.82</td>\n",
       "      <td>128.666667</td>\n",
       "      <td>0.203000</td>\n",
       "      <td>0.431878</td>\n",
       "      <td>Naturally Ella    naturallyella</td>\n",
       "    </tr>\n",
       "    <tr>\n",
       "      <th>7394</th>\n",
       "      <td>0.603334</td>\n",
       "      <td>1.158209</td>\n",
       "      <td>0.505917</td>\n",
       "      <td>0.428994</td>\n",
       "      <td>0.023669</td>\n",
       "      <td>0.000000</td>\n",
       "      <td>0.434146</td>\n",
       "      <td>0.0</td>\n",
       "      <td>0.028451</td>\n",
       "      <td>0</td>\n",
       "      <td>...</td>\n",
       "      <td>0</td>\n",
       "      <td>0</td>\n",
       "      <td>0</td>\n",
       "      <td>0</td>\n",
       "      <td>0</td>\n",
       "      <td>401.70</td>\n",
       "      <td>69.085366</td>\n",
       "      <td>0.186004</td>\n",
       "      <td>0.458430</td>\n",
       "      <td>Esti Ginzburg Swimsuit by Letarte by Lisa Cabr...</td>\n",
       "    </tr>\n",
       "  </tbody>\n",
       "</table>\n",
       "<p>7395 rows × 160 columns</p>\n",
       "</div>"
      ],
      "text/plain": [
       "      alchemy_category_score  avglinksize  commonlinkratio_1  \\\n",
       "0                   0.789131     2.055556           0.676471   \n",
       "1                   0.574147     3.677966           0.508021   \n",
       "2                   0.996526     2.382883           0.562016   \n",
       "3                   0.801248     1.543103           0.400000   \n",
       "4                   0.719157     2.676471           0.500000   \n",
       "...                      ...          ...                ...   \n",
       "7390                0.651067     3.010526           0.474747   \n",
       "7391                0.141920     2.208054           0.483333   \n",
       "7392                0.196273     2.000000           0.315789   \n",
       "7393                0.617876     1.026316           0.210526   \n",
       "7394                0.603334     1.158209           0.505917   \n",
       "\n",
       "      commonlinkratio_2  commonlinkratio_3  commonlinkratio_4  \\\n",
       "0              0.205882           0.047059           0.023529   \n",
       "1              0.288770           0.213904           0.144385   \n",
       "2              0.321705           0.120155           0.042636   \n",
       "3              0.100000           0.016667           0.000000   \n",
       "4              0.222222           0.123457           0.043210   \n",
       "...                 ...                ...                ...   \n",
       "7390           0.222222           0.191919           0.191919   \n",
       "7391           0.246667           0.036667           0.026667   \n",
       "7392           0.171053           0.105263           0.052632   \n",
       "7393           0.052632           0.000000           0.000000   \n",
       "7394           0.428994           0.023669           0.000000   \n",
       "\n",
       "      compression_ratio  embed_ratio  frameTagRatio  hasDomainLink  ...  \\\n",
       "0              0.443783          0.0       0.090774              0  ...   \n",
       "1              0.468649          0.0       0.098707              0  ...   \n",
       "2              0.525448          0.0       0.072448              0  ...   \n",
       "3              0.480725          0.0       0.095861              0  ...   \n",
       "4              0.446143          0.0       0.024908              0  ...   \n",
       "...                 ...          ...            ...            ...  ...   \n",
       "7390           0.474273          0.0       0.177043              0  ...   \n",
       "7391           0.558184          0.0       0.057377              0  ...   \n",
       "7392           0.692529          0.0       0.124122              0  ...   \n",
       "7393          21.000000         -1.0       0.097778              0  ...   \n",
       "7394           0.434146          0.0       0.028451              0  ...   \n",
       "\n",
       "      6.0.1  7.0.1  8.0.1  9.0.1  Unnamed: 154  wordInHLT   wordError  \\\n",
       "0         0      0      0      0             0    1301.76  429.198815   \n",
       "1         0      0      0      0             0    1989.20  623.853048   \n",
       "2         0      0      0      0             0    1232.00  129.053499   \n",
       "3         0      0      0      0             0     656.88  276.049356   \n",
       "4         0      0      0      0             0    1684.48  993.467886   \n",
       "...     ...    ...    ...    ...           ...        ...         ...   \n",
       "7390      0      0      0      0             0     843.22  158.499999   \n",
       "7391      0      0      0      0             0    1928.48  620.815919   \n",
       "7392      0      0      0      0             0     364.64   99.764706   \n",
       "7393      0      0      0      0             0     142.82  128.666667   \n",
       "7394      0      0      0      0             0     401.70   69.085366   \n",
       "\n",
       "      lld_nol_prob  linkscoreprob  \\\n",
       "0         0.800415       0.540297   \n",
       "1         0.804815       0.461285   \n",
       "2         0.803623       0.211520   \n",
       "3         0.790193       0.540297   \n",
       "4         0.808067       0.561500   \n",
       "...            ...            ...   \n",
       "7390      0.562177       0.494403   \n",
       "7391      0.817574       0.459249   \n",
       "7392      0.787649       0.500000   \n",
       "7393      0.203000       0.431878   \n",
       "7394      0.186004       0.458430   \n",
       "\n",
       "                                                   body  \n",
       "0     IBM Sees Holographic Calls Air Breathing Batte...  \n",
       "1     The Fully Electronic Futuristic Starting Gun T...  \n",
       "2     Fruits that Fight the Flu fruits that fight th...  \n",
       "3     10 Foolproof Tips for Better Sleep  There was ...  \n",
       "4     The 50 Coolest Jerseys You Didn t Know Existed...  \n",
       "...                                                 ...  \n",
       "7390  Kno Raises 46 Million More To Build Most Power...  \n",
       "7391  Why I Miss College  Mar 30 2009 I d like to co...  \n",
       "7392  Sweet Potatoes Eat This Not That  i'm eating t...  \n",
       "7393                    Naturally Ella    naturallyella  \n",
       "7394  Esti Ginzburg Swimsuit by Letarte by Lisa Cabr...  \n",
       "\n",
       "[7395 rows x 160 columns]"
      ]
     },
     "execution_count": 4,
     "metadata": {},
     "output_type": "execute_result"
    }
   ],
   "source": [
    "df_train"
   ]
  },
  {
   "cell_type": "code",
   "execution_count": 5,
   "metadata": {
    "id": "-IpfDCArkzEf"
   },
   "outputs": [],
   "source": [
    "report_model = pd.DataFrame(0.0,index=['KNN','Naive Bayes','Logistic Regression','SVM','Decision Tree','RandomForest'],\n",
    "             columns=['Accuracy','Roc_auc_score'])"
   ]
  },
  {
   "cell_type": "code",
   "execution_count": 6,
   "metadata": {
    "id": "-4JYfkW3ov0x"
   },
   "outputs": [],
   "source": [
    "y = df_train['label']\n",
    "X = df_train.drop(columns=['label'])\n",
    "\n",
    "X_train, X_test, y_train, y_test = train_test_split(X, y, test_size=0.2, random_state=42)\n",
    "X_body_train = X_train['body']\n",
    "X_body_test = X_test['body']\n",
    "X_train = X_train.drop(columns=['body'])\n",
    "X_test = X_test.drop(columns=['body'])"
   ]
  },
  {
   "cell_type": "code",
   "execution_count": 7,
   "metadata": {
    "id": "4x2xL4rTTYa-"
   },
   "outputs": [],
   "source": [
    "scaler = StandardScaler().fit(X_train)\n",
    "X_train_scaled = scaler.transform(X_train)\n",
    "X_test_scaled = scaler.transform(X_test)"
   ]
  },
  {
   "cell_type": "code",
   "execution_count": 8,
   "metadata": {
    "colab": {
     "base_uri": "https://localhost:8080/"
    },
    "id": "55QbfWDZRMN7",
    "outputId": "40940f3b-eecb-4f0a-abf4-09b7fe504fb4"
   },
   "outputs": [
    {
     "name": "stdout",
     "output_type": "stream",
     "text": [
      "accuracy: 0.6808654496281271\n",
      "roc_auc_score: 0.7363973882985534\n",
      "              precision    recall  f1-score   support\n",
      "\n",
      "           0       0.68      0.65      0.67       730\n",
      "           1       0.68      0.71      0.69       749\n",
      "\n",
      "    accuracy                           0.68      1479\n",
      "   macro avg       0.68      0.68      0.68      1479\n",
      "weighted avg       0.68      0.68      0.68      1479\n",
      "\n"
     ]
    }
   ],
   "source": [
    "mode1 = LogisticRegression()\n",
    "mode1.fit(X_train_scaled,y_train)\n",
    "y_pred = mode1.predict(X_test_scaled)\n",
    "report_model['Accuracy']['Logistic Regression'] = accuracy_score(y_test,y_pred)\n",
    "report_model['Roc_auc_score']['Logistic Regression'] = roc_auc_score(y_test, mode1.predict_proba(X_test_scaled)[:,1])\n",
    "print('accuracy:',accuracy_score(y_test,y_pred))\n",
    "print('roc_auc_score:',roc_auc_score(y_test, mode1.predict_proba(X_test_scaled)[:,1]))\n",
    "print(classification_report(y_test, y_pred))"
   ]
  },
  {
   "cell_type": "code",
   "execution_count": 9,
   "metadata": {
    "colab": {
     "base_uri": "https://localhost:8080/"
    },
    "id": "afIyMHouVheg",
    "outputId": "2e577fa3-a7d7-41c7-8670-0dd8d50a7377"
   },
   "outputs": [
    {
     "name": "stdout",
     "output_type": "stream",
     "text": [
      "accuracy: 0.6267748478701826\n",
      "roc_auc_score: 0.6763008211862391\n",
      "              precision    recall  f1-score   support\n",
      "\n",
      "           0       0.63      0.58      0.60       730\n",
      "           1       0.62      0.68      0.65       749\n",
      "\n",
      "    accuracy                           0.63      1479\n",
      "   macro avg       0.63      0.63      0.63      1479\n",
      "weighted avg       0.63      0.63      0.63      1479\n",
      "\n"
     ]
    }
   ],
   "source": [
    "mode1 = KNeighborsClassifier()\n",
    "mode1.fit(X_train_scaled,y_train)\n",
    "y_pred = mode1.predict(X_test_scaled)\n",
    "report_model['Accuracy']['KNN'] = accuracy_score(y_test,y_pred)\n",
    "report_model['Roc_auc_score']['KNN'] = roc_auc_score(y_test, mode1.predict_proba(X_test_scaled)[:,1])\n",
    "print('accuracy:',accuracy_score(y_test,y_pred))\n",
    "print('roc_auc_score:',roc_auc_score(y_test, mode1.predict_proba(X_test_scaled)[:,1]))\n",
    "print(classification_report(y_test, y_pred))"
   ]
  },
  {
   "cell_type": "code",
   "execution_count": 10,
   "metadata": {
    "colab": {
     "base_uri": "https://localhost:8080/"
    },
    "id": "F914u6wHRMbY",
    "outputId": "c2f42fcd-e458-4b3d-a77c-721c1b9f969b"
   },
   "outputs": [
    {
     "name": "stdout",
     "output_type": "stream",
     "text": [
      "accuracy: 0.5118323191345504\n",
      "roc_auc_score: 0.5056495418548933\n",
      "              precision    recall  f1-score   support\n",
      "\n",
      "           0       0.63      0.03      0.05       730\n",
      "           1       0.51      0.99      0.67       749\n",
      "\n",
      "    accuracy                           0.51      1479\n",
      "   macro avg       0.57      0.51      0.36      1479\n",
      "weighted avg       0.57      0.51      0.36      1479\n",
      "\n"
     ]
    }
   ],
   "source": [
    "mode1 = GaussianNB()\n",
    "mode1.fit(X_train_scaled,y_train)\n",
    "y_pred = mode1.predict(X_test_scaled)\n",
    "report_model['Accuracy']['Naive Bayes'] = accuracy_score(y_test,y_pred)\n",
    "report_model['Roc_auc_score']['Naive Bayes'] = roc_auc_score(y_test, mode1.predict_proba(X_test_scaled)[:,1])\n",
    "print('accuracy:',accuracy_score(y_test,y_pred))\n",
    "print('roc_auc_score:',roc_auc_score(y_test, mode1.predict_proba(X_test_scaled)[:,1]))\n",
    "print(classification_report(y_test, y_pred))"
   ]
  },
  {
   "cell_type": "code",
   "execution_count": 11,
   "metadata": {
    "colab": {
     "base_uri": "https://localhost:8080/"
    },
    "id": "LNEHvBllRMkw",
    "outputId": "2530f39a-2d18-4c8d-e75b-6e8fceba8f29"
   },
   "outputs": [
    {
     "name": "stdout",
     "output_type": "stream",
     "text": [
      "accuracy: 0.6943881000676132\n",
      "roc_auc_score: 0.753596576256927\n",
      "              precision    recall  f1-score   support\n",
      "\n",
      "           0       0.70      0.67      0.68       730\n",
      "           1       0.69      0.72      0.70       749\n",
      "\n",
      "    accuracy                           0.69      1479\n",
      "   macro avg       0.69      0.69      0.69      1479\n",
      "weighted avg       0.69      0.69      0.69      1479\n",
      "\n"
     ]
    }
   ],
   "source": [
    "mode1 = SVC(probability=True)\n",
    "mode1.fit(X_train_scaled,y_train)\n",
    "y_pred = mode1.predict(X_test_scaled)\n",
    "report_model['Accuracy']['SVM'] = accuracy_score(y_test,y_pred)\n",
    "report_model['Roc_auc_score']['SVM'] = roc_auc_score(y_test, mode1.predict_proba(X_test_scaled)[:,1])\n",
    "print('accuracy:',accuracy_score(y_test,y_pred))\n",
    "print('roc_auc_score:',roc_auc_score(y_test, mode1.predict_proba(X_test_scaled)[:,1]))\n",
    "print(classification_report(y_test, y_pred))"
   ]
  },
  {
   "cell_type": "code",
   "execution_count": 12,
   "metadata": {
    "colab": {
     "base_uri": "https://localhost:8080/"
    },
    "id": "uDR53oJ8X01e",
    "outputId": "c83edace-0f5b-4157-b306-439af9993926"
   },
   "outputs": [
    {
     "name": "stdout",
     "output_type": "stream",
     "text": [
      "accuracy: 0.6396213657876944\n",
      "roc_auc_score: 0.6897763227682571\n",
      "              precision    recall  f1-score   support\n",
      "\n",
      "           0       0.63      0.66      0.64       730\n",
      "           1       0.65      0.62      0.64       749\n",
      "\n",
      "    accuracy                           0.64      1479\n",
      "   macro avg       0.64      0.64      0.64      1479\n",
      "weighted avg       0.64      0.64      0.64      1479\n",
      "\n"
     ]
    }
   ],
   "source": [
    "mode1 = DecisionTreeClassifier(max_depth=7)\n",
    "mode1.fit(X_train_scaled,y_train)\n",
    "y_pred = mode1.predict(X_test_scaled)\n",
    "report_model['Accuracy']['Decision Tree'] = accuracy_score(y_test,y_pred)\n",
    "report_model['Roc_auc_score']['Decision Tree'] = roc_auc_score(y_test, mode1.predict_proba(X_test_scaled)[:,1])\n",
    "print('accuracy:',accuracy_score(y_test,y_pred))\n",
    "print('roc_auc_score:',roc_auc_score(y_test, mode1.predict_proba(X_test_scaled)[:,1]))\n",
    "print(classification_report(y_test, y_pred))"
   ]
  },
  {
   "cell_type": "code",
   "execution_count": 13,
   "metadata": {
    "colab": {
     "base_uri": "https://localhost:8080/"
    },
    "id": "fnacUkXMYADE",
    "outputId": "9bbeb136-4019-4e2d-c9ac-364ea97915b3"
   },
   "outputs": [
    {
     "name": "stdout",
     "output_type": "stream",
     "text": [
      "accuracy: 0.711291413116971\n",
      "roc_auc_score: 0.7733955776651975\n",
      "              precision    recall  f1-score   support\n",
      "\n",
      "           0       0.70      0.72      0.71       730\n",
      "           1       0.72      0.70      0.71       749\n",
      "\n",
      "    accuracy                           0.71      1479\n",
      "   macro avg       0.71      0.71      0.71      1479\n",
      "weighted avg       0.71      0.71      0.71      1479\n",
      "\n"
     ]
    }
   ],
   "source": [
    "mode1 = RandomForestClassifier()\n",
    "mode1.fit(X_train_scaled,y_train)\n",
    "y_pred = mode1.predict(X_test_scaled)\n",
    "report_model['Accuracy']['RandomForest'] = accuracy_score(y_test,y_pred)\n",
    "report_model['Roc_auc_score']['RandomForest'] = roc_auc_score(y_test, mode1.predict_proba(X_test_scaled)[:,1])\n",
    "print('accuracy:',accuracy_score(y_test,y_pred))\n",
    "print('roc_auc_score:',roc_auc_score(y_test, mode1.predict_proba(X_test_scaled)[:,1]))\n",
    "print(classification_report(y_test, y_pred))"
   ]
  },
  {
   "cell_type": "code",
   "execution_count": 14,
   "metadata": {
    "colab": {
     "base_uri": "https://localhost:8080/",
     "height": 233
    },
    "id": "3h3g6jRmo4rS",
    "outputId": "7a01a5d6-1878-49e8-d414-079ca3114424"
   },
   "outputs": [
    {
     "data": {
      "text/html": [
       "<div>\n",
       "<style scoped>\n",
       "    .dataframe tbody tr th:only-of-type {\n",
       "        vertical-align: middle;\n",
       "    }\n",
       "\n",
       "    .dataframe tbody tr th {\n",
       "        vertical-align: top;\n",
       "    }\n",
       "\n",
       "    .dataframe thead th {\n",
       "        text-align: right;\n",
       "    }\n",
       "</style>\n",
       "<table border=\"1\" class=\"dataframe\">\n",
       "  <thead>\n",
       "    <tr style=\"text-align: right;\">\n",
       "      <th></th>\n",
       "      <th>Accuracy</th>\n",
       "      <th>Roc_auc_score</th>\n",
       "    </tr>\n",
       "  </thead>\n",
       "  <tbody>\n",
       "    <tr>\n",
       "      <th>KNN</th>\n",
       "      <td>0.626775</td>\n",
       "      <td>0.676301</td>\n",
       "    </tr>\n",
       "    <tr>\n",
       "      <th>Naive Bayes</th>\n",
       "      <td>0.511832</td>\n",
       "      <td>0.505650</td>\n",
       "    </tr>\n",
       "    <tr>\n",
       "      <th>Logistic Regression</th>\n",
       "      <td>0.680865</td>\n",
       "      <td>0.736397</td>\n",
       "    </tr>\n",
       "    <tr>\n",
       "      <th>SVM</th>\n",
       "      <td>0.694388</td>\n",
       "      <td>0.753597</td>\n",
       "    </tr>\n",
       "    <tr>\n",
       "      <th>Decision Tree</th>\n",
       "      <td>0.639621</td>\n",
       "      <td>0.689776</td>\n",
       "    </tr>\n",
       "    <tr>\n",
       "      <th>RandomForest</th>\n",
       "      <td>0.711291</td>\n",
       "      <td>0.773396</td>\n",
       "    </tr>\n",
       "  </tbody>\n",
       "</table>\n",
       "</div>"
      ],
      "text/plain": [
       "                     Accuracy  Roc_auc_score\n",
       "KNN                  0.626775       0.676301\n",
       "Naive Bayes          0.511832       0.505650\n",
       "Logistic Regression  0.680865       0.736397\n",
       "SVM                  0.694388       0.753597\n",
       "Decision Tree        0.639621       0.689776\n",
       "RandomForest         0.711291       0.773396"
      ]
     },
     "execution_count": 14,
     "metadata": {},
     "output_type": "execute_result"
    }
   ],
   "source": [
    "report_model"
   ]
  },
  {
   "cell_type": "markdown",
   "metadata": {
    "id": "hspg27y7ZmC8"
   },
   "source": [
    "**kết hợp với tfidf**\n"
   ]
  },
  {
   "cell_type": "code",
   "execution_count": 15,
   "metadata": {
    "id": "etoNTkH3cTX1"
   },
   "outputs": [],
   "source": [
    "stop_words = stopwords.words('english')\n",
    "stop_word_add = ['becau','abov', 'ani', 'becaus', 'befor', 'doe', 'dure', 'ha', 'hi', 'onc', 'onli', 'ourselv', 'themselv', 'thi', 'veri', 'wa', 'whi', 'yourselv']\n",
    "for i in stop_word_add:\n",
    "    stop_words.append(i)\n",
    "\n",
    "porter = PorterStemmer()\n",
    "def tokenizer_porter(text):\n",
    "    return [porter.stem(word) for word in text.split()]\n",
    "\n",
    "def preprocessor(text):\n",
    "    soup = BeautifulSoup(text)\n",
    "    text = soup.get_text()\n",
    "    text = re.sub('[\\W0-9]+', ' ', text.lower())\n",
    "    text = \" \".join([porter.stem(word) for word in text.split()])\n",
    "    # ls = []\n",
    "    # for i in text.split():\n",
    "    #   if(i not in stop_words):\n",
    "    #     ls.append(i)\n",
    "    # text = \" \".join(ls)\n",
    "    return text"
   ]
  },
  {
   "cell_type": "code",
   "execution_count": 16,
   "metadata": {
    "id": "9LMnYf_5HnTN"
   },
   "outputs": [],
   "source": [
    "X_body_train = X_body_train.fillna(\" \")\n",
    "X_body_test = X_body_test.fillna(\" \")"
   ]
  },
  {
   "cell_type": "code",
   "execution_count": 17,
   "metadata": {
    "colab": {
     "base_uri": "https://localhost:8080/"
    },
    "id": "_9iIQgHGZWqW",
    "outputId": "9a2c3c7e-7edf-49fb-ba68-0e7f52cb6184"
   },
   "outputs": [
    {
     "name": "stdout",
     "output_type": "stream",
     "text": [
      "197\n",
      "32064\n"
     ]
    }
   ],
   "source": [
    "tfidf = TfidfVectorizer(stop_words= stop_words, tokenizer= tokenizer_porter, preprocessor= preprocessor)\n",
    "tfidf.fit(X_body_train)\n",
    "\n",
    "print(len(stop_words))\n",
    "dict_idf = dict(zip(tfidf.get_feature_names(), tfidf.idf_))\n",
    "for word, idf in dict_idf.items():\n",
    "    if idf >= 8.7:\n",
    "        stop_words.append(word)\n",
    "print(len(stop_words))"
   ]
  },
  {
   "cell_type": "code",
   "execution_count": 18,
   "metadata": {
    "colab": {
     "base_uri": "https://localhost:8080/"
    },
    "id": "8AQI8mmAY_jh",
    "outputId": "42e548fa-b015-43d8-ffcf-286d248a543f"
   },
   "outputs": [],
   "source": [
    "tfidf = TfidfVectorizer(stop_words= stop_words, tokenizer= tokenizer_porter, preprocessor= preprocessor)\n",
    "tfidf.fit(X_body_train)\n",
    "tfidf_train = tfidf.transform(X_body_train)\n",
    "tfidf_test = tfidf.transform(X_body_test)"
   ]
  },
  {
   "cell_type": "code",
   "execution_count": 19,
   "metadata": {
    "id": "NAraBRp0pkTP"
   },
   "outputs": [],
   "source": [
    "report_model1 = pd.DataFrame(0.0,index=['KNN','Naive Bayes','Logistic Regression','SVM','Decision Tree','RandomForest'],\n",
    "             columns=['Accuracy','Roc_auc_score'])"
   ]
  },
  {
   "cell_type": "code",
   "execution_count": 20,
   "metadata": {
    "colab": {
     "base_uri": "https://localhost:8080/"
    },
    "id": "Fypk7UT1ju94",
    "outputId": "949be45d-d5cd-4689-8998-d749fb92d54b"
   },
   "outputs": [
    {
     "name": "stdout",
     "output_type": "stream",
     "text": [
      "accuracy: 0.5720081135902637\n",
      "roc_auc_score: 0.6095899555571813\n",
      "              precision    recall  f1-score   support\n",
      "\n",
      "           0       0.57      0.54      0.55       730\n",
      "           1       0.57      0.60      0.59       749\n",
      "\n",
      "    accuracy                           0.57      1479\n",
      "   macro avg       0.57      0.57      0.57      1479\n",
      "weighted avg       0.57      0.57      0.57      1479\n",
      "\n"
     ]
    }
   ],
   "source": [
    "mode1 = KNeighborsClassifier()\n",
    "mode1.fit(tfidf_train,y_train)\n",
    "y_pred = mode1.predict(tfidf_test)\n",
    "report_model1['Accuracy']['KNN'] = accuracy_score(y_test,y_pred)\n",
    "report_model1['Roc_auc_score']['KNN'] = roc_auc_score(y_test, mode1.predict_proba(tfidf_test)[:,1])\n",
    "print('accuracy:',accuracy_score(y_test,y_pred))\n",
    "print('roc_auc_score:',roc_auc_score(y_test, mode1.predict_proba(tfidf_test)[:,1]))\n",
    "print(classification_report(y_test, y_pred))"
   ]
  },
  {
   "cell_type": "code",
   "execution_count": 21,
   "metadata": {
    "colab": {
     "base_uri": "https://localhost:8080/"
    },
    "id": "9MG0MFTa51DA",
    "outputId": "c92542ac-5d20-4364-c6a2-021f735dfbc6"
   },
   "outputs": [
    {
     "name": "stdout",
     "output_type": "stream",
     "text": [
      "accuracy: 0.7065584854631508\n",
      "roc_auc_score: 0.705095378312636\n",
      "              precision    recall  f1-score   support\n",
      "\n",
      "           0       0.72      0.66      0.69       730\n",
      "           1       0.69      0.75      0.72       749\n",
      "\n",
      "    accuracy                           0.71      1479\n",
      "   macro avg       0.71      0.71      0.71      1479\n",
      "weighted avg       0.71      0.71      0.71      1479\n",
      "\n"
     ]
    }
   ],
   "source": [
    "mode1 = GaussianNB()\n",
    "mode1.fit(tfidf_train.toarray(),y_train)\n",
    "y_pred = mode1.predict(tfidf_test.toarray())\n",
    "report_model1['Accuracy']['Naive Bayes'] = accuracy_score(y_test,y_pred)\n",
    "report_model1['Roc_auc_score']['Naive Bayes'] = roc_auc_score(y_test, mode1.predict_proba(tfidf_test.toarray())[:,1])\n",
    "print('accuracy:',accuracy_score(y_test,y_pred))\n",
    "print('roc_auc_score:',roc_auc_score(y_test, mode1.predict_proba(tfidf_test.toarray())[:,1]))\n",
    "print(classification_report(y_test, y_pred))"
   ]
  },
  {
   "cell_type": "code",
   "execution_count": 22,
   "metadata": {
    "colab": {
     "base_uri": "https://localhost:8080/"
    },
    "id": "9kN86elb6CIG",
    "outputId": "ab2e763d-abde-431c-9e4d-275260fa548e"
   },
   "outputs": [
    {
     "name": "stdout",
     "output_type": "stream",
     "text": [
      "accuracy: 0.7991886409736308\n",
      "roc_auc_score: 0.8718693417707629\n",
      "              precision    recall  f1-score   support\n",
      "\n",
      "           0       0.76      0.87      0.81       730\n",
      "           1       0.85      0.73      0.79       749\n",
      "\n",
      "    accuracy                           0.80      1479\n",
      "   macro avg       0.81      0.80      0.80      1479\n",
      "weighted avg       0.81      0.80      0.80      1479\n",
      "\n"
     ]
    }
   ],
   "source": [
    "mode1 = LogisticRegression()\n",
    "mode1.fit(tfidf_train,y_train)\n",
    "y_pred = mode1.predict(tfidf_test)\n",
    "report_model1['Accuracy']['Logistic Regression'] = accuracy_score(y_test,y_pred)\n",
    "report_model1['Roc_auc_score']['Logistic Regression'] = roc_auc_score(y_test, mode1.predict_proba(tfidf_test)[:,1])\n",
    "print('accuracy:',accuracy_score(y_test,y_pred))\n",
    "print('roc_auc_score:',roc_auc_score(y_test, mode1.predict_proba(tfidf_test)[:,1]))\n",
    "print(classification_report(y_test, y_pred))"
   ]
  },
  {
   "cell_type": "code",
   "execution_count": 23,
   "metadata": {
    "colab": {
     "base_uri": "https://localhost:8080/"
    },
    "id": "99x8DtBe6uJI",
    "outputId": "f38e60f3-b64c-4c15-86aa-3e0db9446186"
   },
   "outputs": [
    {
     "name": "stdout",
     "output_type": "stream",
     "text": [
      "accuracy: 0.7917511832319134\n",
      "roc_auc_score: 0.865111472831355\n",
      "              precision    recall  f1-score   support\n",
      "\n",
      "           0       0.76      0.85      0.80       730\n",
      "           1       0.84      0.73      0.78       749\n",
      "\n",
      "    accuracy                           0.79      1479\n",
      "   macro avg       0.80      0.79      0.79      1479\n",
      "weighted avg       0.80      0.79      0.79      1479\n",
      "\n"
     ]
    }
   ],
   "source": [
    "mode1 = SVC(probability=True)\n",
    "mode1.fit(tfidf_train,y_train)\n",
    "y_pred = mode1.predict(tfidf_test)\n",
    "report_model1['Accuracy']['SVM'] = accuracy_score(y_test,y_pred)\n",
    "report_model1['Roc_auc_score']['SVM'] = roc_auc_score(y_test, mode1.predict_proba(tfidf_test)[:,1])\n",
    "print('accuracy:',accuracy_score(y_test,y_pred))\n",
    "print('roc_auc_score:',roc_auc_score(y_test, mode1.predict_proba(tfidf_test)[:,1]))\n",
    "print(classification_report(y_test, y_pred))"
   ]
  },
  {
   "cell_type": "code",
   "execution_count": 24,
   "metadata": {
    "colab": {
     "base_uri": "https://localhost:8080/"
    },
    "id": "uYHe2s_d7eC-",
    "outputId": "e5155e19-9494-456b-8cc8-e156faf5bd2d"
   },
   "outputs": [
    {
     "name": "stdout",
     "output_type": "stream",
     "text": [
      "accuracy: 0.7633536173089925\n",
      "roc_auc_score: 0.782346324780072\n",
      "              precision    recall  f1-score   support\n",
      "\n",
      "           0       0.71      0.88      0.79       730\n",
      "           1       0.84      0.65      0.74       749\n",
      "\n",
      "    accuracy                           0.76      1479\n",
      "   macro avg       0.78      0.76      0.76      1479\n",
      "weighted avg       0.78      0.76      0.76      1479\n",
      "\n"
     ]
    }
   ],
   "source": [
    "mode1 = DecisionTreeClassifier(max_depth=10)\n",
    "mode1.fit(tfidf_train,y_train)\n",
    "y_pred = mode1.predict(tfidf_test)\n",
    "report_model1['Accuracy']['Decision Tree'] = accuracy_score(y_test,y_pred)\n",
    "report_model1['Roc_auc_score']['Decision Tree'] = roc_auc_score(y_test, mode1.predict_proba(tfidf_test)[:,1])\n",
    "print('accuracy:',accuracy_score(y_test,y_pred))\n",
    "print('roc_auc_score:',roc_auc_score(y_test, mode1.predict_proba(tfidf_test)[:,1]))\n",
    "print(classification_report(y_test, y_pred))"
   ]
  },
  {
   "cell_type": "code",
   "execution_count": 25,
   "metadata": {
    "colab": {
     "base_uri": "https://localhost:8080/"
    },
    "id": "suxn6xdv7ojm",
    "outputId": "227efbd2-0ec0-4847-a45d-1db9f307e7ce"
   },
   "outputs": [
    {
     "name": "stdout",
     "output_type": "stream",
     "text": [
      "accuracy: 0.8147396889790399\n",
      "roc_auc_score: 0.8620800336521754\n",
      "              precision    recall  f1-score   support\n",
      "\n",
      "           0       0.79      0.86      0.82       730\n",
      "           1       0.85      0.77      0.81       749\n",
      "\n",
      "    accuracy                           0.81      1479\n",
      "   macro avg       0.82      0.82      0.81      1479\n",
      "weighted avg       0.82      0.81      0.81      1479\n",
      "\n"
     ]
    }
   ],
   "source": [
    "mode1 = RandomForestClassifier()\n",
    "mode1.fit(tfidf_train,y_train)\n",
    "y_pred = mode1.predict(tfidf_test)\n",
    "report_model1['Accuracy']['RandomForest'] = accuracy_score(y_test,y_pred)\n",
    "report_model1['Roc_auc_score']['RandomForest'] = roc_auc_score(y_test, mode1.predict_proba(tfidf_test)[:,1])\n",
    "print('accuracy:',accuracy_score(y_test,y_pred))\n",
    "print('roc_auc_score:',roc_auc_score(y_test, mode1.predict_proba(tfidf_test)[:,1]))\n",
    "print(classification_report(y_test, y_pred))"
   ]
  },
  {
   "cell_type": "code",
   "execution_count": 26,
   "metadata": {
    "colab": {
     "base_uri": "https://localhost:8080/",
     "height": 233
    },
    "id": "afElYTiH8T4_",
    "outputId": "d17e021e-3b7b-4749-c933-c406b34848f6"
   },
   "outputs": [
    {
     "data": {
      "text/html": [
       "<div>\n",
       "<style scoped>\n",
       "    .dataframe tbody tr th:only-of-type {\n",
       "        vertical-align: middle;\n",
       "    }\n",
       "\n",
       "    .dataframe tbody tr th {\n",
       "        vertical-align: top;\n",
       "    }\n",
       "\n",
       "    .dataframe thead th {\n",
       "        text-align: right;\n",
       "    }\n",
       "</style>\n",
       "<table border=\"1\" class=\"dataframe\">\n",
       "  <thead>\n",
       "    <tr style=\"text-align: right;\">\n",
       "      <th></th>\n",
       "      <th>Accuracy</th>\n",
       "      <th>Roc_auc_score</th>\n",
       "    </tr>\n",
       "  </thead>\n",
       "  <tbody>\n",
       "    <tr>\n",
       "      <th>KNN</th>\n",
       "      <td>0.572008</td>\n",
       "      <td>0.609590</td>\n",
       "    </tr>\n",
       "    <tr>\n",
       "      <th>Naive Bayes</th>\n",
       "      <td>0.706558</td>\n",
       "      <td>0.705095</td>\n",
       "    </tr>\n",
       "    <tr>\n",
       "      <th>Logistic Regression</th>\n",
       "      <td>0.799189</td>\n",
       "      <td>0.871869</td>\n",
       "    </tr>\n",
       "    <tr>\n",
       "      <th>SVM</th>\n",
       "      <td>0.791751</td>\n",
       "      <td>0.865111</td>\n",
       "    </tr>\n",
       "    <tr>\n",
       "      <th>Decision Tree</th>\n",
       "      <td>0.763354</td>\n",
       "      <td>0.782346</td>\n",
       "    </tr>\n",
       "    <tr>\n",
       "      <th>RandomForest</th>\n",
       "      <td>0.814740</td>\n",
       "      <td>0.862080</td>\n",
       "    </tr>\n",
       "  </tbody>\n",
       "</table>\n",
       "</div>"
      ],
      "text/plain": [
       "                     Accuracy  Roc_auc_score\n",
       "KNN                  0.572008       0.609590\n",
       "Naive Bayes          0.706558       0.705095\n",
       "Logistic Regression  0.799189       0.871869\n",
       "SVM                  0.791751       0.865111\n",
       "Decision Tree        0.763354       0.782346\n",
       "RandomForest         0.814740       0.862080"
      ]
     },
     "execution_count": 26,
     "metadata": {},
     "output_type": "execute_result"
    }
   ],
   "source": [
    "report_model1"
   ]
  },
  {
   "cell_type": "markdown",
   "metadata": {
    "id": "eWnoR_4BY-yR"
   },
   "source": [
    "## TruncatedSVD for tf-idf\n"
   ]
  },
  {
   "cell_type": "code",
   "execution_count": 27,
   "metadata": {},
   "outputs": [],
   "source": [
    "tfidf_train_arr = tfidf_train.toarray()\n",
    "tfidf_test_arr = tfidf_test.toarray()"
   ]
  },
  {
   "cell_type": "code",
   "execution_count": 28,
   "metadata": {},
   "outputs": [
    {
     "data": {
      "text/plain": [
       "((5916, 21682), (1479, 21682))"
      ]
     },
     "execution_count": 28,
     "metadata": {},
     "output_type": "execute_result"
    }
   ],
   "source": [
    "dataTrain = np.hstack([X_train_scaled, tfidf_train_arr])\n",
    "dataTest = np.hstack([X_test_scaled, tfidf_test_arr])\n",
    "dataTrain.shape, dataTest.shape"
   ]
  },
  {
   "cell_type": "code",
   "execution_count": 29,
   "metadata": {},
   "outputs": [
    {
     "data": {
      "text/plain": [
       "((5916, 500), (1479, 500))"
      ]
     },
     "execution_count": 29,
     "metadata": {},
     "output_type": "execute_result"
    }
   ],
   "source": [
    "dataTrainDecomposed = TruncatedSVD(random_state = 42, n_components = 500).fit_transform(dataTrain)\n",
    "dataTestDecomposed = TruncatedSVD(random_state = 42, n_components = 500).fit_transform(dataTest)\n",
    "dataTrainDecomposed.shape, dataTestDecomposed.shape"
   ]
  },
  {
   "cell_type": "code",
   "execution_count": null,
   "metadata": {},
   "outputs": [],
   "source": []
  },
  {
   "cell_type": "code",
   "execution_count": null,
   "metadata": {},
   "outputs": [],
   "source": []
  },
  {
   "cell_type": "code",
   "execution_count": 30,
   "metadata": {
    "colab": {
     "base_uri": "https://localhost:8080/"
    },
    "id": "wL_wE6fCM8WF",
    "outputId": "42d07e7c-cc90-45e7-d598-d5569f7ecf8e"
   },
   "outputs": [],
   "source": [
    "# tfidf_trainDecomposed = TruncatedSVD(random_state = 42, n_components = 500).fit_transform(tfidf_train)\n",
    "# tfidf_trainDecomposed"
   ]
  },
  {
   "cell_type": "code",
   "execution_count": 31,
   "metadata": {
    "colab": {
     "base_uri": "https://localhost:8080/"
    },
    "id": "P_qQUfISZLTN",
    "outputId": "7b5056e5-5db6-4cea-8aa2-cea118969714"
   },
   "outputs": [],
   "source": [
    "# tfidf_testDecomposed = TruncatedSVD(random_state = 42, n_components = 500).fit_transform(tfidf_test)\n",
    "# tfidf_testDecomposed"
   ]
  },
  {
   "cell_type": "code",
   "execution_count": 32,
   "metadata": {
    "colab": {
     "base_uri": "https://localhost:8080/"
    },
    "id": "PAvVixG7M8Y4",
    "outputId": "1e686cb3-1d5f-415a-e8c4-418087d92312"
   },
   "outputs": [],
   "source": [
    "# tfidf_train.shape, tfidf_trainDecomposed.shape, tfidf_test.shape, tfidf_testDecomposed.shape"
   ]
  },
  {
   "cell_type": "code",
   "execution_count": 33,
   "metadata": {
    "colab": {
     "base_uri": "https://localhost:8080/",
     "height": 439
    },
    "id": "iDH6Qo0TM8bU",
    "outputId": "1de1a9a6-1a5e-4047-d8ab-f7782a9565c4"
   },
   "outputs": [],
   "source": [
    "# # Create boiler_df_train\n",
    "# boiler_df_train = pd.DataFrame()\n",
    "# for i in range(tfidf_trainDecomposed.shape[1]):\n",
    "#     boiler_df_train[i] = list(tfidf_trainDecomposed.T[i])\n",
    "# pd.DataFrame(boiler_df_train)"
   ]
  },
  {
   "cell_type": "code",
   "execution_count": 34,
   "metadata": {
    "colab": {
     "base_uri": "https://localhost:8080/",
     "height": 439
    },
    "id": "d6PGx7NTZiVN",
    "outputId": "971cf8a5-accd-4d53-e26a-b4950fe268bc"
   },
   "outputs": [],
   "source": [
    "# # Create boiler_df_test\n",
    "# boiler_df_test = pd.DataFrame()\n",
    "# for i in range(tfidf_testDecomposed.shape[1]):\n",
    "#     boiler_df_test[i] = list(tfidf_testDecomposed.T[i])\n",
    "# pd.DataFrame(boiler_df_test)"
   ]
  },
  {
   "cell_type": "code",
   "execution_count": 35,
   "metadata": {
    "colab": {
     "base_uri": "https://localhost:8080/"
    },
    "id": "3XotOFr5M8mM",
    "outputId": "b640bcab-1a1a-460f-b916-943efa4b3414"
   },
   "outputs": [],
   "source": [
    "# dataTrain = np.hstack([X_train_scaled, boiler_df_train])\n",
    "# dataTrain, dataTrain.shape"
   ]
  },
  {
   "cell_type": "code",
   "execution_count": 36,
   "metadata": {
    "colab": {
     "base_uri": "https://localhost:8080/"
    },
    "id": "mA32gRWqM8oa",
    "outputId": "312d3066-e342-4434-e85d-58674f92fafd"
   },
   "outputs": [],
   "source": [
    "# dataTest = np.hstack([X_test_scaled, boiler_df_test])\n",
    "# dataTest, dataTest.shape"
   ]
  },
  {
   "cell_type": "code",
   "execution_count": 37,
   "metadata": {
    "id": "JuZos2lQM8rE"
   },
   "outputs": [],
   "source": [
    "report_model2 = pd.DataFrame(0.0,index=['KNN','Naive Bayes','Logistic Regression','SVM','Decision Tree','RandomForest'],\n",
    "             columns=['Accuracy','Roc_auc_score'])"
   ]
  },
  {
   "cell_type": "code",
   "execution_count": 38,
   "metadata": {
    "colab": {
     "base_uri": "https://localhost:8080/"
    },
    "id": "gXsL82q-Z3nJ",
    "outputId": "474f065e-1189-43f0-ec24-c4a3b13e621b"
   },
   "outputs": [
    {
     "name": "stdout",
     "output_type": "stream",
     "text": [
      "accuracy: 0.6274509803921569\n",
      "roc_auc_score: 0.6773661685900836\n",
      "              precision    recall  f1-score   support\n",
      "\n",
      "           0       0.63      0.58      0.61       730\n",
      "           1       0.62      0.68      0.65       749\n",
      "\n",
      "    accuracy                           0.63      1479\n",
      "   macro avg       0.63      0.63      0.63      1479\n",
      "weighted avg       0.63      0.63      0.63      1479\n",
      "\n"
     ]
    }
   ],
   "source": [
    "mode2 = KNeighborsClassifier()\n",
    "mode2.fit(dataTrain,y_train)\n",
    "y_pred = mode2.predict(dataTest)\n",
    "report_model2['Accuracy']['KNN'] = accuracy_score(y_test,y_pred)\n",
    "report_model2['Roc_auc_score']['KNN'] = roc_auc_score(y_test, mode2.predict_proba(dataTest)[:,1])\n",
    "print('accuracy:',accuracy_score(y_test,y_pred))\n",
    "print('roc_auc_score:',roc_auc_score(y_test, mode2.predict_proba(dataTest)[:,1]))\n",
    "print(classification_report(y_test, y_pred))"
   ]
  },
  {
   "cell_type": "code",
   "execution_count": 39,
   "metadata": {
    "colab": {
     "base_uri": "https://localhost:8080/"
    },
    "id": "1AUFngs2Z3pQ",
    "outputId": "d153d133-a6d4-4a88-9989-f9bdbe0806b6"
   },
   "outputs": [
    {
     "name": "stdout",
     "output_type": "stream",
     "text": [
      "accuracy: 0.7079107505070994\n",
      "roc_auc_score: 0.7083993269564899\n",
      "              precision    recall  f1-score   support\n",
      "\n",
      "           0       0.72      0.68      0.70       730\n",
      "           1       0.70      0.74      0.72       749\n",
      "\n",
      "    accuracy                           0.71      1479\n",
      "   macro avg       0.71      0.71      0.71      1479\n",
      "weighted avg       0.71      0.71      0.71      1479\n",
      "\n"
     ]
    }
   ],
   "source": [
    "mode2 = GaussianNB()\n",
    "mode2.fit(dataTrain,y_train)\n",
    "y_pred = mode2.predict(dataTest)\n",
    "report_model2['Accuracy']['Naive Bayes'] = accuracy_score(y_test,y_pred)\n",
    "report_model2['Roc_auc_score']['Naive Bayes'] = roc_auc_score(y_test, mode2.predict_proba(dataTest)[:,1])\n",
    "print('accuracy:',accuracy_score(y_test,y_pred))\n",
    "print('roc_auc_score:',roc_auc_score(y_test, mode2.predict_proba(dataTest)[:,1]))\n",
    "print(classification_report(y_test, y_pred))"
   ]
  },
  {
   "cell_type": "code",
   "execution_count": 40,
   "metadata": {
    "colab": {
     "base_uri": "https://localhost:8080/"
    },
    "id": "NG9BpAQmZ3r2",
    "outputId": "92accb86-215b-49a0-8a4f-f11b246f7e4f"
   },
   "outputs": [
    {
     "name": "stdout",
     "output_type": "stream",
     "text": [
      "accuracy: 0.8066260987153482\n",
      "roc_auc_score: 0.8630850266108235\n",
      "              precision    recall  f1-score   support\n",
      "\n",
      "           0       0.77      0.86      0.81       730\n",
      "           1       0.85      0.75      0.80       749\n",
      "\n",
      "    accuracy                           0.81      1479\n",
      "   macro avg       0.81      0.81      0.81      1479\n",
      "weighted avg       0.81      0.81      0.81      1479\n",
      "\n"
     ]
    }
   ],
   "source": [
    "mode2 = LogisticRegression()\n",
    "mode2.fit(dataTrain,y_train)\n",
    "y_pred = mode2.predict(dataTest)\n",
    "report_model2['Accuracy']['Logistic Regression'] = accuracy_score(y_test,y_pred)\n",
    "report_model2['Roc_auc_score']['Logistic Regression'] = roc_auc_score(y_test, mode2.predict_proba(dataTest)[:,1])\n",
    "print('accuracy:',accuracy_score(y_test,y_pred))\n",
    "print('roc_auc_score:',roc_auc_score(y_test, mode2.predict_proba(dataTest)[:,1]))\n",
    "print(classification_report(y_test, y_pred))"
   ]
  },
  {
   "cell_type": "code",
   "execution_count": null,
   "metadata": {
    "colab": {
     "base_uri": "https://localhost:8080/"
    },
    "id": "SPlqukEnbM0_",
    "outputId": "207003f0-8037-4fc9-c66d-a55a2c1ac592"
   },
   "outputs": [],
   "source": [
    "mode2 = SVC(probability=True)\n",
    "mode2.fit(dataTrain,y_train)\n",
    "y_pred = mode2.predict(dataTest)\n",
    "report_model2['Accuracy']['SVM'] = accuracy_score(y_test,y_pred)\n",
    "report_model2['Roc_auc_score']['SVM'] = roc_auc_score(y_test, mode2.predict_proba(dataTest)[:,1])\n",
    "print('accuracy:',accuracy_score(y_test,y_pred))\n",
    "print('roc_auc_score:',roc_auc_score(y_test, mode2.predict_proba(dataTest)[:,1]))\n",
    "print(classification_report(y_test, y_pred))"
   ]
  },
  {
   "cell_type": "code",
   "execution_count": null,
   "metadata": {
    "colab": {
     "base_uri": "https://localhost:8080/"
    },
    "id": "jsnkdqz5bM26",
    "outputId": "29cd5eb7-31d3-4c7b-909f-b006cda1d8a9"
   },
   "outputs": [],
   "source": [
    "mode2 = DecisionTreeClassifier(max_depth=10)\n",
    "mode2.fit(dataTrain,y_train)\n",
    "y_pred = mode2.predict(dataTest)\n",
    "report_model2['Accuracy']['Decision Tree'] = accuracy_score(y_test,y_pred)\n",
    "report_model2['Roc_auc_score']['Decision Tree'] = roc_auc_score(y_test, mode2.predict_proba(dataTest)[:,1])\n",
    "print('accuracy:',accuracy_score(y_test,y_pred))\n",
    "print('roc_auc_score:',roc_auc_score(y_test, mode2.predict_proba(dataTest)[:,1]))\n",
    "print(classification_report(y_test, y_pred))"
   ]
  },
  {
   "cell_type": "code",
   "execution_count": null,
   "metadata": {
    "colab": {
     "base_uri": "https://localhost:8080/"
    },
    "id": "f9KpTm7rbM5d",
    "outputId": "dde56510-b3a5-47cd-81f8-f533048ab9ac"
   },
   "outputs": [],
   "source": [
    "mode2 = RandomForestClassifier()\n",
    "mode2.fit(dataTrain,y_train)\n",
    "y_pred = mode2.predict(dataTest)\n",
    "report_model2['Accuracy']['RandomForest'] = accuracy_score(y_test,y_pred)\n",
    "report_model2['Roc_auc_score']['RandomForest'] = roc_auc_score(y_test, mode2.predict_proba(dataTest)[:,1])\n",
    "print('accuracy:',accuracy_score(y_test,y_pred))\n",
    "print('roc_auc_score:',roc_auc_score(y_test, mode2.predict_proba(dataTest)[:,1]))\n",
    "print(classification_report(y_test, y_pred))"
   ]
  },
  {
   "cell_type": "code",
   "execution_count": null,
   "metadata": {
    "colab": {
     "base_uri": "https://localhost:8080/",
     "height": 235
    },
    "id": "xEtDSitzbM7n",
    "outputId": "3252945e-6a4b-494f-cf1b-d61990061a99"
   },
   "outputs": [],
   "source": [
    "report_model2"
   ]
  },
  {
   "cell_type": "code",
   "execution_count": 121,
   "metadata": {
    "colab": {
     "base_uri": "https://localhost:8080/"
    },
    "id": "OpRPm0bDM8tG",
    "outputId": "08cf39da-987c-442c-c8cd-0a5613af70b2"
   },
   "outputs": [
    {
     "name": "stdout",
     "output_type": "stream",
     "text": [
      "accuracy: 0.718052738336714\n",
      "roc_auc_score: 0.7508577646908206\n",
      "              precision    recall  f1-score   support\n",
      "\n",
      "           0       0.69      0.78      0.73       730\n",
      "           1       0.76      0.66      0.70       749\n",
      "\n",
      "    accuracy                           0.72      1479\n",
      "   macro avg       0.72      0.72      0.72      1479\n",
      "weighted avg       0.72      0.72      0.72      1479\n",
      "\n"
     ]
    }
   ],
   "source": [
    "mode2 = LogisticRegression()\n",
    "mode2.fit(tfidf_trainDecomposed,y_train)\n",
    "y_pred = mode2.predict(tfidf_testDecomposed)\n",
    "x = accuracy_score(y_test,y_pred)\n",
    "print('accuracy:',accuracy_score(y_test,y_pred))\n",
    "print('roc_auc_score:',roc_auc_score(y_test, mode2.predict_proba(tfidf_testDecomposed)[:,1]))\n",
    "print(classification_report(y_test, y_pred))"
   ]
  },
  {
   "cell_type": "markdown",
   "metadata": {
    "id": "uXsU5fGwi62e"
   },
   "source": [
    "## FULL data"
   ]
  },
  {
   "cell_type": "code",
   "execution_count": 34,
   "metadata": {
    "id": "YHfi95_3dobM"
   },
   "outputs": [
    {
     "data": {
      "text/plain": [
       "(0       IBM Sees Holographic Calls Air Breathing Batte...\n",
       " 1       The Fully Electronic Futuristic Starting Gun T...\n",
       " 2       Fruits that Fight the Flu fruits that fight th...\n",
       " 3       10 Foolproof Tips for Better Sleep  There was ...\n",
       " 4       The 50 Coolest Jerseys You Didn t Know Existed...\n",
       "                               ...                        \n",
       " 7390    Kno Raises 46 Million More To Build Most Power...\n",
       " 7391    Why I Miss College  Mar 30 2009 I d like to co...\n",
       " 7392    Sweet Potatoes Eat This Not That  i'm eating t...\n",
       " 7393                      Naturally Ella    naturallyella\n",
       " 7394    Esti Ginzburg Swimsuit by Letarte by Lisa Cabr...\n",
       " Name: body, Length: 7395, dtype: object,\n",
       " 0       Homemade Enchilada Sauce Lynn s Kitchen Advent...\n",
       " 1       lolpics Stun grenade ar   funny pictures at lo...\n",
       " 2       Treadmills   treadmills, stair, climbers, trea...\n",
       " 3       Father s Tactics Used by Assad to Crush Revolt...\n",
       " 4       Stem Turns Lemons and Limes Into Juicy Atomize...\n",
       "                               ...                        \n",
       " 3166    Peep Brownie S mores Busy Mommy An Iowa Mom Bl...\n",
       " 3167    Marijuana infused cheesecake Medical Cannabis ...\n",
       " 3168    Most Viewed Submissions All Time most viewed s...\n",
       " 3169    How to Get a Complete Workout with Nothing But...\n",
       " 3170    Crispy Parmesan Asparagus Sticks How Sweet It ...\n",
       " Name: body, Length: 3171, dtype: object)"
      ]
     },
     "execution_count": 34,
     "metadata": {},
     "output_type": "execute_result"
    }
   ],
   "source": [
    "body_train = df_train['body']\n",
    "body_test = df_test['body']\n",
    "body_train, body_test"
   ]
  },
  {
   "cell_type": "code",
   "execution_count": 35,
   "metadata": {
    "id": "9vuc95hYdodi"
   },
   "outputs": [],
   "source": [
    "body_train = body_train.fillna(\" \")\n",
    "body_test = body_test.fillna(\" \")"
   ]
  },
  {
   "cell_type": "code",
   "execution_count": 36,
   "metadata": {
    "id": "7x2enEuMdofn"
   },
   "outputs": [
    {
     "name": "stdout",
     "output_type": "stream",
     "text": [
      "197\n",
      "42808\n"
     ]
    }
   ],
   "source": [
    "tfidf = TfidfVectorizer(stop_words= stop_words, tokenizer= tokenizer_porter, preprocessor= preprocessor)\n",
    "tfidf.fit(body_train)\n",
    "\n",
    "print(len(stop_words))\n",
    "dict_idf = dict(zip(tfidf.get_feature_names(), tfidf.idf_))\n",
    "for word, idf in dict_idf.items():\n",
    "    if idf >= 8.7:\n",
    "        stop_words.append(word)\n",
    "print(len(stop_words))"
   ]
  },
  {
   "cell_type": "code",
   "execution_count": 37,
   "metadata": {},
   "outputs": [],
   "source": [
    "tfidf = TfidfVectorizer(stop_words= stop_words, tokenizer= tokenizer_porter, preprocessor= preprocessor)\n",
    "tfidf.fit(body_train)\n",
    "tfidf_train = tfidf.transform(body_train)\n",
    "tfidf_test = tfidf.transform(body_test)"
   ]
  },
  {
   "cell_type": "code",
   "execution_count": 39,
   "metadata": {},
   "outputs": [],
   "source": [
    "mode1 = LogisticRegression()\n",
    "mode1.fit(tfidf_train,y)\n",
    "rel = mode1.predict_proba(tfidf_test)[:,1]"
   ]
  },
  {
   "cell_type": "code",
   "execution_count": 58,
   "metadata": {
    "id": "zuPoKvFZdoiH"
   },
   "outputs": [
    {
     "data": {
      "text/plain": [
       "(array([[0., 0., 0., ..., 0., 0., 0.],\n",
       "        [0., 0., 0., ..., 0., 0., 0.],\n",
       "        [0., 0., 0., ..., 0., 0., 0.],\n",
       "        ...,\n",
       "        [0., 0., 0., ..., 0., 0., 0.],\n",
       "        [0., 0., 0., ..., 0., 0., 0.],\n",
       "        [0., 0., 0., ..., 0., 0., 0.]]),\n",
       " array([[0., 0., 0., ..., 0., 0., 0.],\n",
       "        [0., 0., 0., ..., 0., 0., 0.],\n",
       "        [0., 0., 0., ..., 0., 0., 0.],\n",
       "        ...,\n",
       "        [0., 0., 0., ..., 0., 0., 0.],\n",
       "        [0., 0., 0., ..., 0., 0., 0.],\n",
       "        [0., 0., 0., ..., 0., 0., 0.]]))"
      ]
     },
     "execution_count": 58,
     "metadata": {},
     "output_type": "execute_result"
    }
   ],
   "source": [
    "tfidf_train_arr = tfidf_train.toarray()\n",
    "tfidf_test_arr = tfidf_test.toarray()\n",
    "tfidf_train_arr, tfidf_test_arr"
   ]
  },
  {
   "cell_type": "code",
   "execution_count": 56,
   "metadata": {},
   "outputs": [
    {
     "data": {
      "text/plain": [
       "((7395, 158), (7395,), (3171, 158))"
      ]
     },
     "execution_count": 56,
     "metadata": {},
     "output_type": "execute_result"
    }
   ],
   "source": [
    "y_train = df_train['label']\n",
    "X_train = df_train.drop(columns=['label', 'body'])\n",
    "X_test = df_test.drop(columns=['body'])\n",
    "X_train.shape, y_train.shape, X_test.shape"
   ]
  },
  {
   "cell_type": "code",
   "execution_count": 57,
   "metadata": {
    "id": "9Q_1KrsedokQ"
   },
   "outputs": [
    {
     "data": {
      "text/plain": [
       "((7395, 158), (7395,), (3171, 158))"
      ]
     },
     "execution_count": 57,
     "metadata": {},
     "output_type": "execute_result"
    }
   ],
   "source": [
    "scaler = StandardScaler().fit(X_train)\n",
    "X_train_scaled = scaler.transform(X_train)\n",
    "X_test_scaled = scaler.transform(X_test)\n",
    "X_train.shape, y_train.shape, X_test.shape"
   ]
  },
  {
   "cell_type": "code",
   "execution_count": 59,
   "metadata": {},
   "outputs": [
    {
     "data": {
      "text/plain": [
       "(array([[ 1.05602316e+00, -8.19411122e-02,  1.02520913e+00, ...,\n",
       "          0.00000000e+00,  0.00000000e+00,  0.00000000e+00],\n",
       "        [-1.65893609e-01,  1.06290824e-01,  1.95898909e-01, ...,\n",
       "          0.00000000e+00,  0.00000000e+00,  0.00000000e+00],\n",
       "        [ 2.23480590e+00, -4.39646230e-02,  4.61723094e-01, ...,\n",
       "          0.00000000e+00,  0.00000000e+00,  0.00000000e+00],\n",
       "        ...,\n",
       "        [-2.31363752e+00, -8.83866632e-02, -7.50498553e-01, ...,\n",
       "          0.00000000e+00,  0.00000000e+00,  0.00000000e+00],\n",
       "        [ 8.26513915e-02, -2.01353424e-01, -1.26873084e+00, ...,\n",
       "          0.00000000e+00,  0.00000000e+00,  0.00000000e+00],\n",
       "        [-3.15511882e-15, -1.86051190e-01,  1.85539349e-01, ...,\n",
       "          0.00000000e+00,  0.00000000e+00,  0.00000000e+00]]),\n",
       " (7395, 18122))"
      ]
     },
     "execution_count": 59,
     "metadata": {},
     "output_type": "execute_result"
    }
   ],
   "source": [
    "dataTrain = np.hstack([X_train_scaled, tfidf_train_arr])\n",
    "dataTrain, dataTrain.shape"
   ]
  },
  {
   "cell_type": "code",
   "execution_count": 60,
   "metadata": {},
   "outputs": [
    {
     "data": {
      "text/plain": [
       "(array([[-0.90615178, -0.02363136, -0.3865928 , ...,  0.        ,\n",
       "          0.        ,  0.        ],\n",
       "        [-2.65710126,  0.11713433, -0.03294615, ...,  0.        ,\n",
       "          0.        ,  0.        ],\n",
       "        [-0.04839993, -0.05711173,  0.1353686 , ...,  0.        ,\n",
       "          0.        ,  0.        ],\n",
       "        ...,\n",
       "        [-0.04839993, -0.23720802, -0.86926012, ...,  0.        ,\n",
       "          0.        ,  0.        ],\n",
       "        [-1.01756478, -0.21136777, -1.40260752, ...,  0.        ,\n",
       "          0.        ,  0.        ],\n",
       "        [-0.10326429, -0.01631368,  0.23701461, ...,  0.        ,\n",
       "          0.        ,  0.        ]]),\n",
       " (3171, 18122))"
      ]
     },
     "execution_count": 60,
     "metadata": {},
     "output_type": "execute_result"
    }
   ],
   "source": [
    "dataTest = np.hstack([X_test_scaled, tfidf_test_arr])\n",
    "dataTest, dataTest.shape"
   ]
  },
  {
   "cell_type": "code",
   "execution_count": 61,
   "metadata": {},
   "outputs": [],
   "source": [
    "mode1 = LogisticRegression()\n",
    "mode1.fit(dataTrain,y)\n",
    "rel = mode1.predict_proba(dataTest)[:,1]"
   ]
  },
  {
   "cell_type": "code",
   "execution_count": 67,
   "metadata": {},
   "outputs": [
    {
     "name": "stdout",
     "output_type": "stream",
     "text": [
      "[LightGBM] [Warning] feature_fraction is set with sub_feature=0.5, colsample_bytree=1.0 will be ignored. Current value: feature_fraction=0.5\n"
     ]
    }
   ],
   "source": [
    "mod = LGBMClassifier(n_estimators= 300, learning_rate= 0.08, num_leaves= 50,boosting_type= 'gbdt', objective= 'binary', sub_feature= 0.5, max_depth= 7)\n",
    "mod.fit(dataTrain, y)\n",
    "rel = mod.predict_proba(dataTest)[:,1]"
   ]
  },
  {
   "cell_type": "code",
   "execution_count": null,
   "metadata": {},
   "outputs": [],
   "source": []
  },
  {
   "cell_type": "code",
   "execution_count": null,
   "metadata": {},
   "outputs": [],
   "source": []
  },
  {
   "cell_type": "code",
   "execution_count": null,
   "metadata": {},
   "outputs": [],
   "source": []
  },
  {
   "cell_type": "code",
   "execution_count": null,
   "metadata": {},
   "outputs": [],
   "source": []
  },
  {
   "cell_type": "code",
   "execution_count": null,
   "metadata": {},
   "outputs": [],
   "source": []
  }
 ],
 "metadata": {
  "colab": {
   "collapsed_sections": [],
   "name": "SUN* ",
   "provenance": []
  },
  "kernelspec": {
   "display_name": "Python 3",
   "language": "python",
   "name": "python3"
  },
  "language_info": {
   "codemirror_mode": {
    "name": "ipython",
    "version": 3
   },
   "file_extension": ".py",
   "mimetype": "text/x-python",
   "name": "python",
   "nbconvert_exporter": "python",
   "pygments_lexer": "ipython3",
   "version": "3.8.5"
  }
 },
 "nbformat": 4,
 "nbformat_minor": 1
}
